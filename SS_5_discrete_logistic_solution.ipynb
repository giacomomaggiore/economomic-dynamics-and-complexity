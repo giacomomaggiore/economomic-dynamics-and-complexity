{
 "cells": [
  {
   "cell_type": "markdown",
   "metadata": {},
   "source": [
    "## Self Study 5: Logistic Map and Chaos\n",
    "\n",
    "In past lectures, we have discussed the logistic growth model in continuous time, which describes the growth of populations within the constraints of environmental resources and carrying capacity. This model is characterized by the equation:\n",
    "\n",
    "$$ \n",
    "\\frac{dP}{dt} = rP \\left(1 - \\frac{P}{K}\\right)\n",
    "$$\n",
    "\n",
    "where $P$ is the population size,$r$ the intrinsic growth rate, and $K$ the carrying capacity.\n",
    "\n",
    "Now we explore its *discrete* counterpart: the logistic map.\n",
    "\n",
    "$$\n",
    "P_{n+1} = rP_n \\left(1 - \\frac{P_n}{K}\\right)\n",
    "$$\n",
    "\n",
    "where $P_{n}$ is the population size at time step $n$.\n",
    "Despite its simplicity, the logistic map exhibits rich behaviors that we might intuitively not expect by simply moving from continous to discrete.\n",
    "\n",
    "In this exercise, we will assume $K=1$ for simplicity.\n",
    "\n",
    "**Note** Notation is different from Lecture."
   ]
  },
  {
   "cell_type": "markdown",
   "metadata": {},
   "source": [
    "## Section 1: From Continuous to Discrete"
   ]
  },
  {
   "cell_type": "markdown",
   "metadata": {},
   "source": [
    "### Task 1: Logistic Growth as a Continuous Function\n",
    "\n",
    "Plot the logistic growth function with interactive sliders for $r$ and $P_0$"
   ]
  },
  {
   "cell_type": "code",
   "execution_count": 43,
   "metadata": {},
   "outputs": [
    {
     "data": {
      "application/vnd.jupyter.widget-view+json": {
       "model_id": "9dc4dec3689e49c08ad9327672cd6ac8",
       "version_major": 2,
       "version_minor": 0
      },
      "text/plain": [
       "interactive(children=(FloatSlider(value=0.5, description='P0', max=1.0), FloatSlider(value=0.0, description='r…"
      ]
     },
     "metadata": {},
     "output_type": "display_data"
    },
    {
     "data": {
      "text/plain": [
       "<function __main__.plot_logistic_growth(P0, r)>"
      ]
     },
     "execution_count": 43,
     "metadata": {},
     "output_type": "execute_result"
    }
   ],
   "source": [
    "import matplotlib.pyplot as plt\n",
    "from ipywidgets import interact\n",
    "import numpy as np\n",
    "from scipy.integrate import odeint\n",
    "\n",
    "# plt.style.use('seaborn-v0_8-whitegrid') # uncomment to make plots look nicer\n",
    "\n",
    "# YOUR CODE HERE\n",
    "# logistic growth\n",
    "def dPdt(P, t, r):\n",
    "    return r * P * (1 - P)\n",
    "\n",
    "def plot_logistic_growth(P0, r):\n",
    "    t = np.linspace(0, 100, 400)\n",
    "    #P0 = 0.1 \n",
    "    #r = 0.3\n",
    "\n",
    "    P = odeint(dPdt, P0, t, args=(r,))\n",
    "    \n",
    "\n",
    "    plt.figure(figsize=(8, 5))\n",
    "    plt.plot(t, P)\n",
    "    plt.xlabel('Time')\n",
    "    plt.ylabel('Population $P$')\n",
    "    plt.title('Continuous Logistic Growth')\n",
    "\n",
    "interact(plot_logistic_growth, P0=(0, 1., .1), r=(0, 1, .1))"
   ]
  },
  {
   "cell_type": "markdown",
   "metadata": {},
   "source": [
    "### Task 2: Define Logistic Map and plot its evolution\n",
    "\n",
    "Define the *recurrence equation* of the logistic map as a function of $P_n$ and $r$. Then plot the evolution of the population size for different values of $r$ and $P_0$."
   ]
  },
  {
   "cell_type": "code",
   "execution_count": 44,
   "metadata": {},
   "outputs": [
    {
     "data": {
      "application/vnd.jupyter.widget-view+json": {
       "model_id": "39eca602baab449d8baf762b580c99ef",
       "version_major": 2,
       "version_minor": 0
      },
      "text/plain": [
       "interactive(children=(FloatSlider(value=3.0, description='r', max=4.0, min=2.0, step=0.01), FloatSlider(value=…"
      ]
     },
     "metadata": {},
     "output_type": "display_data"
    },
    {
     "data": {
      "text/plain": [
       "<function __main__.plot_logistic_map(r, p0, n)>"
      ]
     },
     "execution_count": 44,
     "metadata": {},
     "output_type": "execute_result"
    }
   ],
   "source": [
    "import numpy as np\n",
    "import matplotlib.pyplot as plt\n",
    "\n",
    "def logistic_map(r, p0, n):\n",
    "    \"\"\"\n",
    "    - r: growth parameter \n",
    "    - p0: initial population size \n",
    "    - n: number of iterations\n",
    "    \n",
    "    Returns:\n",
    "    - p: array of n+1 values from p0 to p_n\n",
    "    \"\"\"\n",
    "    p = np.zeros(n + 1)\n",
    "    p[0] = p0\n",
    "    for i in range(n):\n",
    "        p[i + 1] = r * p[i] * (1 - p[i])\n",
    "    return p\n",
    "\n",
    "def plot_logistic_map(r, p0, n):\n",
    "    # Parameters\n",
    "    \n",
    "\n",
    "    trajectories = {}\n",
    "    # Compute trajectories for different r\n",
    "    trajectories = logistic_map(r, p0, n)\n",
    "\n",
    "    # Plot\n",
    "    plt.figure(figsize=(10, 6))\n",
    "    iterations = np.arange(n + 1)\n",
    "\n",
    "    plt.plot(iterations, trajectories, label=f'r={r}')\n",
    "\n",
    "    plt.xlabel('Iteration n')\n",
    "    plt.ylabel('Population Size P_n')\n",
    "    plt.title(f'Logistic Map: Population Evolution for Different r')\n",
    "    plt.grid(True, alpha=0.3)\n",
    "    plt.legend()\n",
    "    plt.ylim(0, 1)\n",
    "    plt.show()\n",
    "\n",
    "interact(plot_logistic_map, \n",
    "         r=(2, 4, 0.01), \n",
    "         p0=(0.01, 0.99, 0.01), \n",
    "         n=(10, 100, 10))"
   ]
  },
  {
   "cell_type": "markdown",
   "metadata": {},
   "source": [
    "Define a function that iterates the logistic map for $n$ steps, starting from $P_0$. Note that since it is discrete, we don't use `odeint`, but a for loop."
   ]
  },
  {
   "cell_type": "code",
   "execution_count": 45,
   "metadata": {},
   "outputs": [
    {
     "name": "stdout",
     "output_type": "stream",
     "text": [
      "Honestly I didn't understand the question.\n",
      "In the previous cell I already did something similar,\n",
      "but probably not exactly what was asked \n",
      "and I'm missing something\n"
     ]
    }
   ],
   "source": [
    "def logistic_dynamics(P0, r, n):\n",
    "    \"\"\"Compute the first n iterations of the logistic map with parameter r\n",
    "    \n",
    "    P0 (float): initial value\n",
    "    r (float): parameter\n",
    "    n (int): number of iterations\n",
    "    \"\"\"\n",
    "    vals = np.empty(n + 1)\n",
    "    vals[0] = P0\n",
    "    for i in range(n):\n",
    "        vals[i + 1] = r * vals[i] * (1 - vals[i])\n",
    "    return vals\n",
    "\n",
    "print(\"Honestly I didn't understand the question.\")\n",
    "print(\"In the previous cell I already did something similar,\\nbut probably not exactly what was asked \\nand I'm missing something\")"
   ]
  },
  {
   "cell_type": "markdown",
   "metadata": {},
   "source": [
    "**Questions:** What is the fundemental difference in modelling $P_{n+1}$ vs $\\frac{dP}{dt}$? What is the difference in the way we solve the two equations?\n",
    "\n",
    "**Continuous Logistic Growth**\n",
    "\n",
    "$\\frac{dP}{dt} = rP \\left(1 - \\frac{P}{K}\\right)$ is a differential equation in continuous time, meaning that the population changes continuously for each $t \\in \\mathbb{R}$.\n",
    "In particular, $\\frac{dP}{dt}$ describes the rate of change at each $t$, and from that rate we compute the following $P$.\n",
    "To solve the equation and obtain a time series for $P$, we therefore use integration (numerical or analytical) to obtain $P$.\n",
    "\n",
    "\n",
    "**Discrete Time Logistic Growth**\n",
    "\n",
    "$P_{n+1} = rP_n \\left(1 - \\frac{P_n}{K}\\right)$ is a recurrence equation in discrete time, where the population evolves at each $n$ from the previous value. \n",
    "Each iteration is therefore computed directly from the previous one (using a simple loop), without integrations and approximations.\n",
    "\n",
    "Beyond the solving method, there's a key difference in the dynamic behavior between the two models: the continuous model always converges (for some $r$) to a stable equilibrium, therefore it has a predictable behavior.\n",
    "The discrete one, on the other side, can show different behaviors:\n",
    "- $r < 1$: extinction\n",
    "- $1 < r < 3$: convergence to a fixed point\n",
    "- $3 < r < 3.57$: continuous oscillations\n",
    "- $r > 3.57$: chaos\n",
    "- $r > 4$: divergence\n",
    " \n",
    "**Questions:** What do you observe about the behavior of the logistic map as $r$ increases? What happens when $r$ is greater than 1, 3, 4?\n",
    "\n",
    "\n",
    "As $r$ increases, the logistic map exhibits different regimes:\n",
    "\n",
    "- **$r < 1$**: Population decays to zero (extinction)\n",
    "- **$1 < r < 3$**: Converges to a stable fixed point $P^* = \\frac{r-1}{r}$\n",
    "- **$r = 3$**: Bifurcation point - fixed point loses stability\n",
    "- **$3 < r < 3.57$**: Periodic oscillations (period 2, 4, 8, ... - period doubling cascade)\n",
    "- **$r > 3.57$**: Chaotic behavior - aperiodic, unpredictable dynamics\n",
    "- **$r > 4$**: Population escapes the interval $[0,1]$ and diverges\n",
    "\n",
    "\n",
    "\n",
    "**Question:** What happens at $r=3.9$ and $P_0$ changes? \n",
    "\n",
    "\n",
    "At $r=3.9$, the system is deep in the chaotic regime and exhibits **extreme sensitivity to initial conditions**. Even tiny differences in $P_0$ (e.g., $P_0 = 0.5$ vs $P_0 = 0.5001$) produce trajectories that initially appear similar but diverge exponentially after just a few iterations, resulting in completely different long-term behavior. "
   ]
  },
  {
   "cell_type": "markdown",
   "metadata": {},
   "source": [
    "## Section 2: Cobweb Plot\n",
    "\n",
    "Above in the iterative generation of $P_n$ we have done applied the logistic map $f$ to an initial value of $P_0$ repeatedly, creating a sequence such as $ f(P_0), f(f(P_0)), f(f(f(P_0))), \\ldots $. This process can be visualised with a cobweb plot.\n",
    "This is a technique not unique to the logistic map but applicable to any iterative function.\n",
    "The purpose of the cobweb plot is to understand *how* the function $f$ behaves as it is iteratively applied to its own output.\n",
    "\n",
    "\n",
    "Here's a step by step explanation of the construction of a cobweb plot:\n",
    "\n",
    "1. Plot the function $f(x) $.\n",
    "2. Plot the identity line $y = x$.\n",
    "3. Start at the initial point $(x_0, x_0)$ located on the identity line.\n",
    "4. Vertical move: From $(x_0, x_0)$, draw a vertical line to $(x_0, f(x_0))$. This step represents the application of the function $f$ to the initial value.\n",
    "5. Horizontal move: Next, draw a horizontal line from $(x_0, f(x_0))$ to $(f(x_0), f(x_0))$ updating the input value to $x_1 = y_0 = f(x_0)$.\n",
    "6. Repeat the vertical and horizontal movements.\n",
    "\n",
    "\n",
    "I provide most of the code for the cobweb plot below. You have to add the two lines:\n",
    "\n",
    "1) plot the *vertical* move: $(x_n, x_n)$ to $(x_n, y_n)$\n",
    "2) plot the *horizontal* move: $(x_n, y_n)$ to $(y_n, y_n)$.\n",
    "\n",
    "Where $y_n = f(x_n)$."
   ]
  },
  {
   "cell_type": "code",
   "execution_count": 46,
   "metadata": {},
   "outputs": [
    {
     "data": {
      "application/vnd.jupyter.widget-view+json": {
       "model_id": "6f9b3435918f4765ad66a7570bce569e",
       "version_major": 2,
       "version_minor": 0
      },
      "text/plain": [
       "interactive(children=(FloatSlider(value=2.2, description='r', max=4.1, min=0.5), FloatSlider(value=0.46, descr…"
      ]
     },
     "metadata": {},
     "output_type": "display_data"
    }
   ],
   "source": [
    "import matplotlib.pyplot as plt\n",
    "import numpy as np\n",
    "\n",
    "def logistic_map(x, r):\n",
    "    \"\"\"\n",
    "    Logistic map function.\n",
    "    \"\"\"\n",
    "    return r * x * (1 - x)\n",
    "\n",
    "\n",
    "def annotate_point(ax, x, y, text, xytext=(0, 0)):\n",
    "    \"\"\"\n",
    "    Annotate a point on a matplotlib axis.\n",
    "    \"\"\"\n",
    "    ax.annotate(text,\n",
    "                    xy=(x, y), xycoords='data',\n",
    "                    xytext=xytext, textcoords='offset points',\n",
    "                    arrowprops=dict(arrowstyle=\"->\",\n",
    "                                    connectionstyle=\"arc3,rad=.2\"))\n",
    "\n",
    "\n",
    "def plot_cobweb(f, x0, n, show_annotation=True, **f_kwargs):\n",
    "    \"\"\"\n",
    "    Plot the cobweb plot for a function f, starting point x0, and number of steps n.\n",
    "    \n",
    "    Args:\n",
    "        f (function): Function of the form f(x, **f_kwargs), where x is a float and f_kwargs are additional keyword arguments.\n",
    "        x0 (float): Initial value.\n",
    "        n (int): Number of iterations.\n",
    "        show_annotation (bool): Whether to show annotations for the first iteration.\n",
    "        **f_kwargs: Additional keyword arguments to pass to f.\n",
    "    \"\"\"\n",
    "    # Initialize figure\n",
    "    fig, ax = plt.subplots(1, 1, figsize=(6, 6))\n",
    "    \n",
    "    # Plot y = f(x) and y = x\n",
    "    #y = x fixed points\n",
    "    \n",
    "    \n",
    "    x = np.linspace(0, 1, 500)\n",
    "    y = f(x, **f_kwargs)\n",
    "    ax.plot(x, y, 'blue', lw=1, label='$f$')\n",
    "    ax.plot(x, x, 'gray', lw=.5, label='Identity line', linestyle='dashed')\n",
    "    \n",
    "    x_n = x0\n",
    "    for i in range(n):\n",
    "        y_n = f(x_n, **f_kwargs)\n",
    "        \n",
    "        # 1. Plot vertical move. Use ax.plot\n",
    "        ax.plot([x_n, x_n], [x_n, y_n], 'red', lw=1)\n",
    "        # 2. Plot horizontal move\n",
    "        ax.plot([x_n, y_n], [y_n, y_n], 'red', lw=1)\n",
    "\n",
    "        # Annotate first iteration\n",
    "        if i == 0 and show_annotation:\n",
    "            ax.plot([x0], [x0], 'ok')\n",
    "            annotate_point(ax, x0, x0, 'Initial Point\\n$(x_0, x_0)$', xytext=(-50, 30))\n",
    "            annotate_point(ax, x_n, y_n, 'Apply $f$\\n$(x_0, f(x_0))$', xytext=(-50, 10))\n",
    "            annotate_point(ax, y_n, y_n, 'First iteration\\n$(f(x_0), f(x_0))$', xytext=(-50, -50))\n",
    "        \n",
    "        # Update the point\n",
    "        x_n = y_n\n",
    "\n",
    "    # Set labels and title\n",
    "    ax.set_xlabel('x')\n",
    "    ax.set_ylabel('f(x)')\n",
    "    ax.legend()\n",
    "    \n",
    "    # turn off grid\n",
    "    ax.grid(False)\n",
    "    \n",
    "    # Display the plot\n",
    "    plt.show()\n",
    "\n",
    "# Plot cobweb plot for logistic map with r=2.6 and x0=0.2, for 100 iterations\n",
    "\n",
    "\n",
    "@interact\n",
    "def plot_cw(r=(.5, 4.1, .1,), x0=(0.01, 1., 0.05), n=(0, 10, 1), show_annotation=True):\n",
    "    plot_cobweb(f=logistic_map, n=n, x0=x0, show_annotation=show_annotation, r=r)"
   ]
  },
  {
   "cell_type": "markdown",
   "metadata": {},
   "source": [
    "### Task 1: Explore the parameters of the cobweb plot of the logistic map\n",
    "\n",
    "**Question:** What do you observe in the cobweb plot as $r$ increases? What happens when $r$ is greater than 1, 3, 4? Why does this happen, graphically?\n",
    "\n",
    "**Answer:**\n",
    "As $r$ increases, the parabola becomes steeper. The cobweb paths lengthen and become more \"bouncy,\" reflecting growing amplification of deviations before settling.\n",
    "\n",
    "For $r > 1$, the fixed point shifts from $x^* = 0$ (unstable) to a new attracting fixed point. The cobweb no longer converges to 0 but spirals or approaches this interior point monotonically (for $1 < r < 3$).\n",
    "\n",
    "For $r > 3$ the path no longer settles to one point but loops indefinitely.\n",
    "\n",
    "At $r = 4$ there's full chaos. The fixed point and all periodic cycles are unstable, and the cobweb becomes dense.\n",
    "\n",
    "**Question:** What happens at $r>4$? Looking at $f(x)$ what is the intuition for why higher values behave this way? **Hint:** Keep the iterations low i.e., $n<5$ to be able to see the behavior.  \n",
    "\n",
    "**Answer:**\n",
    "For $r > 4$, the function $f(x) = rx(1-x)$ can produce values outside the interval $[0, 1]$. When $r > 4$, the parabola's maximum exceeds 1, so iterates can escape the unit interval and diverge. The cobweb shows trajectories that leave the valid domain $[0, 1]$, resulting in unbounded or negative values. This can be clearly seen by changing the value of $P_0$ and observing that the graph changes drastically depending on the initial condition."
   ]
  },
  {
   "cell_type": "markdown",
   "metadata": {},
   "source": [
    "### Task 2: Apply the cobweb plot to other functions\n",
    "\n",
    "Define two functions (one linear one \"complex\") and visualize how the cobweb evolves.\n",
    "\n",
    "**Question:** How does your function behave differently from the logistic map? Why?\n",
    "\n",
    "**Answer:**"
   ]
  },
  {
   "cell_type": "code",
   "execution_count": 47,
   "metadata": {},
   "outputs": [],
   "source": [
    "import math\n",
    "\n",
    "def lin_fun(x, a, b):\n",
    "    return a * x + b\n",
    "\n",
    "def natural_log(x):\n",
    "    return np.log(x)\n",
    "\n",
    "def sin(x):\n",
    "    return np.sin(x)\n"
   ]
  },
  {
   "cell_type": "code",
   "execution_count": 48,
   "metadata": {},
   "outputs": [
    {
     "data": {
      "application/vnd.jupyter.widget-view+json": {
       "model_id": "d004a05521f048e18f54b95d6700787f",
       "version_major": 2,
       "version_minor": 0
      },
      "text/plain": [
       "interactive(children=(FloatSlider(value=0.46, description='a', max=1.0, min=0.01, step=0.05), FloatSlider(valu…"
      ]
     },
     "metadata": {},
     "output_type": "display_data"
    }
   ],
   "source": [
    "@interact\n",
    "def plot_cw(a = (0.01, 1., 0.05), b = (0.01, 1., 0.05), x0=(0.01, 1., 0.05), n=(0, 10, 1), show_annotation=True):\n",
    "    plot_cobweb(f=lin_fun, n=n, x0=x0, show_annotation=show_annotation, a = a, b = b)"
   ]
  },
  {
   "cell_type": "code",
   "execution_count": 49,
   "metadata": {},
   "outputs": [
    {
     "data": {
      "application/vnd.jupyter.widget-view+json": {
       "model_id": "59d2c67f9ae44fdab0789890f5bc645d",
       "version_major": 2,
       "version_minor": 0
      },
      "text/plain": [
       "interactive(children=(FloatSlider(value=0.46, description='x0', max=1.0, min=0.01, step=0.05), IntSlider(value…"
      ]
     },
     "metadata": {},
     "output_type": "display_data"
    }
   ],
   "source": [
    "@interact\n",
    "def plot_cw(x0=(0.01, 1., 0.05), n=(0, 10, 1), show_annotation=True):\n",
    "    plot_cobweb(f=natural_log, n=n, x0=x0, show_annotation=show_annotation)"
   ]
  },
  {
   "cell_type": "code",
   "execution_count": 50,
   "metadata": {},
   "outputs": [
    {
     "data": {
      "application/vnd.jupyter.widget-view+json": {
       "model_id": "cd8b083070064523911971ea442842c1",
       "version_major": 2,
       "version_minor": 0
      },
      "text/plain": [
       "interactive(children=(FloatSlider(value=0.46, description='x0', max=1.0, min=0.01, step=0.05), IntSlider(value…"
      ]
     },
     "metadata": {},
     "output_type": "display_data"
    }
   ],
   "source": [
    "@interact\n",
    "def plot_cw(x0=(0.01, 1., 0.05), n=(0, 10, 1), show_annotation=True):\n",
    "    plot_cobweb(f=sin, n=n, x0=x0, show_annotation=show_annotation)"
   ]
  },
  {
   "cell_type": "markdown",
   "metadata": {},
   "source": [
    "## Section 3: Bifurcation Diagram\n",
    "\n",
    "For the logistic map, the bifuraction diagram depicts the long-term values at which the system settles for each value of the growth rate parameter $ r $. The diagram is constructed by iterating the logistic map for a range of values of $ r $.\n",
    "\n",
    "Here is a step-by-step description of how to construct a bifurcation diagram for the logistic map:\n",
    "\n",
    "1. Write a function that for a given $r$ and $P_0$ iterates the logistic map for $n$ steps and returns the last $m$ values of $P$. By taking only the last $m$ values, we are ignoring the transient behavior of the system.\n",
    "2. For $2.5<r<4$ iterate this function and store the last $m$ values of $P$.\n",
    "3. Plot $r$ on the x-axis and the list of $P$ values on the y-axis, i.e., the bifurcation diagram."
   ]
  },
  {
   "cell_type": "code",
   "execution_count": 51,
   "metadata": {},
   "outputs": [
    {
     "name": "stdout",
     "output_type": "stream",
     "text": [
      "[0.41089828 0.84721309 0.45305075 0.86728519 0.40285557 0.84197036]\n"
     ]
    }
   ],
   "source": [
    "def logistic_dynamics(P0, r, n, m):\n",
    "    \"\"\"\n",
    "    Genera e restituisce gli ultimi m valori della mappa logistica dopo n iterazioni di transiente.\n",
    "\n",
    "    Args:\n",
    "        P0 (float): valore iniziale\n",
    "        r (float): parametro di crescita\n",
    "        n (int): numero di iterazioni di transiente da scartare\n",
    "        m (int): numero di valori finali da restituire\n",
    "\n",
    "    Returns:\n",
    "        numpy.ndarray: array degli ultimi m valori di P\n",
    "    \"\"\"\n",
    "    vals = np.empty(n + m + 1)\n",
    "    vals[0] = P0\n",
    "    for i in range(n + m):\n",
    "        vals[i + 1] = r * vals[i] * (1 - vals[i])\n",
    "    return vals[n + 1 : n + m + 1]\n",
    "\n",
    "# Esempio di utilizzo:\n",
    "prova = logistic_dynamics(0.1, 3.5, 10, 6)\n",
    "print(prova)"
   ]
  },
  {
   "cell_type": "code",
   "execution_count": 52,
   "metadata": {},
   "outputs": [
    {
     "data": {
      "image/png": "[encoded data removed]",
      "text/plain": [
       "<Figure size 1200x900 with 1 Axes>"
      ]
     },
     "metadata": {},
     "output_type": "display_data"
    }
   ],
   "source": [
    "def plot_bifurcation(r_values, P0, n, m):\n",
    "    \"\"\"\n",
    "    Plot the bifurcation diagram for the logistic map.\n",
    "    \n",
    "    Parameters:\n",
    "        r_values (array-like): An array of r values to iterate over.\n",
    "        P0 (float): The initial population size.\n",
    "        n (int): The total number of iterations per r value.\n",
    "        last (int): The number of iterations to plot to show long-term behavior.\n",
    "    \"\"\"\n",
    "    # Initialize the array to hold the data points to plot\n",
    "    r_points = [] # this be a list of r values corresponding to the P_points\n",
    "    P_points = [] # this will be a list of P values corresponding to the r_points\n",
    "\n",
    "    # Loop over the r values\n",
    "    for r in r_values:\n",
    "        P = logistic_dynamics(P0, r, n, m)\n",
    "        \n",
    "        r_points.extend([r] * m) # add r to the r_points list \"m\" times\n",
    "        P_points.extend(P)\n",
    "    \n",
    "    # Plot the bifurcation diagram\n",
    "    plt.figure(figsize=(12, 9))\n",
    "    plt.plot(r_points, P_points, ',k', alpha=0.25)\n",
    "    plt.title(\"Bifurcation Diagram\")\n",
    "    plt.xlabel('r')\n",
    "    plt.ylabel('Population')\n",
    "    plt.show()\n",
    "\n",
    "\n",
    "r_values = np.linspace(2.5, 4.0, 4000)\n",
    "plot_bifurcation(r_values, P0=0.1, n=10, m=6)"
   ]
  },
  {
   "cell_type": "markdown",
   "metadata": {},
   "source": [
    "**Question:** What do you observe in the bifurcation diagram as $ r $ increases? What happens when $ r $ is greater than 2.6, 3.2, 3.5, and 3.9? What happens there in terms of \"stability\"?\n",
    "\n",
    "As $r$ increases, the bifurcation diagram shows a transition from simple to complex dynamics:\n",
    "\n",
    "- For $r < 2.6$: the system quickly converges to a stable fixed point.\n",
    "- For $r > 2.6$: the first bifurcation occurs, and the population oscillates between two values (period 2).\n",
    "- For $r > 3.2$: further bifurcations appear, with oscillations between 4, 8, 16 values (period doubling).\n",
    "- For $r > 3.5$: windows of chaos emerge, and the population spreads in an apparently random way; small changes in r or P0 lead to completely different trajectories.\n",
    "- For $r > 3.9$: chaos dominates, stability is lost, and the system is extremely sensitive to initial conditions.\n",
    "\n",
    "**Question:** How is this bifurcation diagram different from bifurcation diagrams for continuous systems we have seen in the past?\n",
    "\n",
    "\n",
    "Continuous systems show smooth transitions between equilibria and periodic solutions. Bifurcations are limited and chaos is rare.\n",
    "Discrete systems (like the logistic map) display much richer and more complex behavior: a cascade of period-doubling bifurcations, frequent chaos, windows of regularity, and extreme sensitivity to initial conditions."
   ]
  }
 ],
 "metadata": {
  "kernelspec": {
   "display_name": "Python 3",
   "language": "python",
   "name": "python3"
  },
  "language_info": {
   "codemirror_mode": {
    "name": "ipython",
    "version": 3
   },
   "file_extension": ".py",
   "mimetype": "text/x-python",
   "name": "python",
   "nbconvert_exporter": "python",
   "pygments_lexer": "ipython3",
   "version": "3.12.2"
  }
 },
 "nbformat": 4,
 "nbformat_minor": 2
}
