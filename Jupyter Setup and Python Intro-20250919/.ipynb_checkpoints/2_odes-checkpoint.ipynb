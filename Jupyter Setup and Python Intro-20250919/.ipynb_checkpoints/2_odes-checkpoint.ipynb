{
 "cells": [
  {
   "cell_type": "markdown",
   "metadata": {},
   "source": [
    "# Intuition of ODE Solvers\n",
    "\n",
    "\n",
    "Ordinary Differential Equations (ODEs) are equations that involve derivatives of an unknown function. They describe a system's dynamic behavior. \n",
    "\n",
    "Numerical solvers for ODEs work by approximating the continuous behavior of the system using discrete steps. The most basic of these is the [Euler method](https://en.wikipedia.org/wiki/Euler_method).\n",
    "\n",
    "We'll write an ODE solver from scratch, using Euler's method. This will give you a good understanding of the basic principles in solving ODEs numerically.\n",
    "\n",
    "Let's start by defining a simple ODE, the [Exponential decay](https://en.wikipedia.org/wiki/Exponential_decay) function.\n",
    "\n",
    "$$\n",
    "\\frac{{dy}}{{dt}} = -k \\cdot y\n",
    "$$\n",
    "\n",
    "where $k$ is a constant, $y$ is the function we want to find, and $t$ is time.\n",
    "\n",
    "Let's define this equation in Python.\n"
   ]
  },
  {
   "cell_type": "code",
   "execution_count": 1,
   "metadata": {},
   "outputs": [],
   "source": [
    "import numpy as np\n",
    "\n",
    "def exp_decay_dt(y, t, k=1):\n",
    "    return -k * y"
   ]
  },
  {
   "cell_type": "markdown",
   "metadata": {},
   "source": [
    "For this differential equation, there is an exact solution. Note that in most cases there is no exact solution, and we rely on numerical methods.\n",
    "\n",
    "$$\n",
    "y(t) = y_0 e^{-k t}\n",
    "$$\n",
    "\n",
    "We will use this to compare our numerical solution to."
   ]
  },
  {
   "cell_type": "code",
   "execution_count": 2,
   "metadata": {},
   "outputs": [],
   "source": [
    "def exp_decay(y0, t, k=1):\n",
    "    return y0 * np.exp(-k * t)"
   ]
  },
  {
   "cell_type": "markdown",
   "metadata": {},
   "source": [
    "Now, let's define the Euler method for solving ODEs. The Euler method works by taking small time steps and approximating the change at each step as follows:\n",
    "\n",
    "$$\n",
    "y(t + \\Delta t) = y(t) + \\frac{{dy}}{{dt}} \\cdot \\Delta t\n",
    "$$\n",
    "\n",
    "where $ \\Delta t $ is the time step size. The smaller the more accurate, but the longer it takes to compute."
   ]
  },
  {
   "cell_type": "code",
   "execution_count": 3,
   "metadata": {},
   "outputs": [],
   "source": [
    "import numpy as np\n",
    "\n",
    "def solve_ode_euler(dydt, y0, Dt=0.1, t_end=10):\n",
    "    # Calculate the number of steps\n",
    "    n_steps = int(t_end / Dt)\n",
    "    \n",
    "    # Create an array of time points at which to evaluate the solution\n",
    "    t_values = np.linspace(0, t_end, n_steps + 1)\n",
    "    \n",
    "    # Initialize arrays to store the time points and the solution\n",
    "    y_values = np.zeros(n_steps + 1)\n",
    "    \n",
    "    # Set the initial condition\n",
    "    y_values[0] = y0\n",
    "    \n",
    "    # Solve the ODE using the Euler method\n",
    "    for i in range(n_steps):\n",
    "        y_values[i+1] = y_values[i] + dydt(y_values[i], t_values[i]) * Dt\n",
    "        \n",
    "    return t_values, y_values"
   ]
  },
  {
   "cell_type": "markdown",
   "metadata": {},
   "source": [
    "Let's plot the solution for various values of $\\Delta t$ to understand the effect of the time step size."
   ]
  },
  {
   "cell_type": "code",
   "execution_count": 4,
   "metadata": {},
   "outputs": [
    {
     "data": {
      "application/vnd.jupyter.widget-view+json": {
       "model_id": "ff43234b2b724fb3a1fca326aa61ced4",
       "version_major": 2,
       "version_minor": 0
      },
      "text/plain": [
       "interactive(children=(FloatSlider(value=1.0, description='Dt', max=2.0), Output()), _dom_classes=('widget-inte…"
      ]
     },
     "metadata": {},
     "output_type": "display_data"
    }
   ],
   "source": [
    "import matplotlib.pyplot as plt\n",
    "from ipywidgets import interact\n",
    "\n",
    "\n",
    "def solve_and_plot(Dt):\n",
    "    y0 = 10\n",
    "    t_values, y_values = solve_ode_euler(dydt=exp_decay_dt, y0=y0, Dt=Dt, t_end=10)\n",
    "    y_true = exp_decay(y0=y0, t=t_values)\n",
    "    plt.plot(t_values, y_values, marker='o')\n",
    "    plt.plot(t_values, y_true)\n",
    "\n",
    "interact(solve_and_plot, Dt=(0.0, 2.0, 0.1));"
   ]
  },
  {
   "cell_type": "markdown",
   "metadata": {},
   "source": [
    "The Euler method is not a good fit for systems that change rapidly. In these cases we would use more advanced methods, e.g., [Runge–Kutta methods](https://en.wikipedia.org/wiki/Runge%E2%80%93Kutta_methods).\n",
    "\n",
    "Fortunately for us we will not have to deal with solver selection. We will be using [scipy.integrate.odeint](https://docs.scipy.org/doc/scipy/reference/generated/scipy.integrate.odeint.html), which uses advanced methods to solve systems of ODEs, wihout us having to worry about the details."
   ]
  },
  {
   "cell_type": "code",
   "execution_count": 5,
   "metadata": {},
   "outputs": [
    {
     "data": {
      "image/png": "[encoded data removed]",
      "text/plain": [
       "<Figure size 640x480 with 1 Axes>"
      ]
     },
     "metadata": {},
     "output_type": "display_data"
    }
   ],
   "source": [
    "from scipy.integrate import odeint\n",
    "\n",
    "t = np.linspace(0, 10, 100)\n",
    "y = odeint(exp_decay_dt, 10, t)\n",
    "\n",
    "plt.plot(t, y, marker='o');"
   ]
  }
 ],
 "metadata": {
  "kernelspec": {
   "display_name": "dl",
   "language": "python",
   "name": "python3"
  },
  "language_info": {
   "codemirror_mode": {
    "name": "ipython",
    "version": 3
   },
   "file_extension": ".py",
   "mimetype": "text/x-python",
   "name": "python",
   "nbconvert_exporter": "python",
   "pygments_lexer": "ipython3",
   "version": "3.10.9"
  },
  "orig_nbformat": 4
 },
 "nbformat": 4,
 "nbformat_minor": 2
}
