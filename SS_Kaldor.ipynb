{
 "cells": [
  {
   "cell_type": "markdown",
   "metadata": {},
   "source": [
    "# Self Study: The Kaldor Model\n",
    "\n",
    "In this notebook, we'll explore the Kaldor business cycle. The model demonstrates how nonlinear interactions between investment and savings can generate persistent economic cycles and hysteresis effects.\n",
    "\n",
    "## The Model\n",
    "\n",
    "The Kaldor model describes an economy using two state variables:\n",
    "\n",
    "1. **Output ($ Y $)**: Total production in the economy\n",
    "2. **Capital Stock ($ K $)**: Accumulated productive capacity (Capital)\n",
    "\n",
    "The dynamics are governed by:\n",
    "\n",
    "$$\n",
    "\\frac{dY}{dt} = \\alpha \\left( I(Y, K) - S(Y, K) \\right)\n",
    "$$\n",
    "$$\n",
    "\\frac{dK}{dt} = I(Y, K) - \\delta K\n",
    "$$\n",
    "\n",
    "\n",
    "### Functional Forms\n",
    "\n",
    "**Investment:** Linear in Y, decreasing in K\n",
    "$$\n",
    "I(Y, K) = i \\cdot Y - K\n",
    "$$\n",
    "- Higher output → more profitable investment opportunities\n",
    "- Higher capital stock → fewer new opportunities (diminishing returns)\n",
    "\n",
    "**Savings:** Cubic in Y (nonlinear!)\n",
    "$$\n",
    "S(Y, K) = Y^3 + s \\cdot Y + K\n",
    "$$\n",
    "- Low income: negative savings (dissaving)\n",
    "- Medium income: moderate saving rate\n",
    "- High income: rapid increase in savings (cubic term dominates)"
   ]
  },
  {
   "cell_type": "code",
   "execution_count": null,
   "metadata": {},
   "outputs": [],
   "source": [
    "# import libarries\n",
    "import numpy as np\n",
    "import matplotlib.pyplot as plt\n",
    "from ipywidgets import interact, FloatSlider\n",
    "from scipy.integrate import odeint"
   ]
  },
  {
   "cell_type": "markdown",
   "metadata": {},
   "source": [
    "## Section 1: Understanding Investment and Savings Functions"
   ]
  },
  {
   "cell_type": "markdown",
   "metadata": {},
   "source": [
    "### Task 1.1: Define the model functions\n",
    "\n",
    "Implement the four core functions of the Kaldor model:\n",
    "- `savings(Y, K, s)`: Cubic savings function\n",
    "- `investment(Y, K, i)`: Linear investment function  \n",
    "- `dYdt(I, S, alpha)`: Income dynamics\n",
    "- `dKdt(I, K, delta)`: Capital dynamics"
   ]
  },
  {
   "cell_type": "code",
   "execution_count": 6,
   "metadata": {},
   "outputs": [],
   "source": [
    "def savings(Y, K, s):\n",
    "    # YOUR CODE HERE\n",
    "    pass\n",
    "\n",
    "\n",
    "def investment(Y, K, i):\n",
    "    # YOUR CODE HERE\n",
    "    pass\n",
    "\n",
    "\n",
    "def dYdt(I, S, alpha):\n",
    "    # YOUR CODE HERE\n",
    "    pass\n",
    "\n",
    "def dKdt(I, K, delta):  \n",
    "    # YOUR CODE HERE\n",
    "    pass"
   ]
  },
  {
   "cell_type": "markdown",
   "metadata": {},
   "source": [
    "### Task 1.2: Visualize Investment and Savings Curves\n",
    "\n",
    "Create an interactive plot showing $I(Y)$ and $S(Y)$ for different parameter values.\n",
    "As wells as $\\dot Y$ vs $Y$.\n",
    "\n",
    "Show that varrying $K$ changes the number of equilibria (either multiple plots or an interactive plot)."
   ]
  },
  {
   "cell_type": "code",
   "execution_count": 7,
   "metadata": {},
   "outputs": [],
   "source": [
    "# YOUR CODE HERE"
   ]
  },
  {
   "cell_type": "markdown",
   "metadata": {},
   "source": [
    "## Section 2: Biffurcation"
   ]
  },
  {
   "cell_type": "markdown",
   "metadata": {},
   "source": [
    "### Task 2.1: Bifurcation Diagram (K vs Y*)\n",
    "\n",
    "Find the analytical solution to for the points wher $Y^*=0$ as a function of $K$."
   ]
  },
  {
   "cell_type": "code",
   "execution_count": 8,
   "metadata": {},
   "outputs": [],
   "source": [
    "# YOUR CODE HERE"
   ]
  },
  {
   "cell_type": "markdown",
   "metadata": {},
   "source": [
    "### Task 2.2: Plot the Bifurcation Diagram ($Y^*$ as function of $K$)"
   ]
  },
  {
   "cell_type": "code",
   "execution_count": 9,
   "metadata": {},
   "outputs": [],
   "source": [
    "# YOUR CODE HERE"
   ]
  },
  {
   "cell_type": "markdown",
   "metadata": {},
   "source": [
    "## Section 3: Full Model"
   ]
  },
  {
   "cell_type": "markdown",
   "metadata": {},
   "source": [
    "### Task 3.1: Define the coupled system"
   ]
  },
  {
   "cell_type": "code",
   "execution_count": 10,
   "metadata": {},
   "outputs": [],
   "source": [
    "# Define the Kaldor model system of equations\n",
    "# YOUR CODE HERE"
   ]
  },
  {
   "cell_type": "markdown",
   "metadata": {},
   "source": [
    "### Task 3.2: Plot the System\n",
    "\n",
    "- Show the evolution for various parameters as $K$ and $Y$ as function of $t$, the evolution\n",
    "- Plot the Streamplot and one trajectory in the $K$—$Y$ space."
   ]
  },
  {
   "cell_type": "code",
   "execution_count": 11,
   "metadata": {},
   "outputs": [],
   "source": [
    "# YOUR CODE HERE"
   ]
  }
 ],
 "metadata": {
  "kernelspec": {
   "display_name": "Python 3",
   "language": "python",
   "name": "python3"
  },
  "language_info": {
   "codemirror_mode": {
    "name": "ipython",
    "version": 3
   },
   "file_extension": ".py",
   "mimetype": "text/x-python",
   "name": "python",
   "nbconvert_exporter": "python",
   "pygments_lexer": "ipython3",
   "version": "3.12.2"
  }
 },
 "nbformat": 4,
 "nbformat_minor": 2
}
