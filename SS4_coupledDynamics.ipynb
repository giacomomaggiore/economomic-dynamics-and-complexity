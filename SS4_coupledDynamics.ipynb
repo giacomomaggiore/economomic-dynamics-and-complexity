{
 "cells": [
  {
   "cell_type": "markdown",
   "metadata": {},
   "source": [
    "#  Self-Study 4: Coupled Dynamics and Stability"
   ]
  },
  {
   "cell_type": "markdown",
   "metadata": {},
   "source": [
    "In this self-study, we will explore the concepts of stability and coupled dynamics. A key part of our approach will involve using symbolic mathematics.\n",
    "\n",
    "If you are not familiar with `sympy`, take a look at the notebook `sympy_basics.ipynb` for a quick introduction.\n",
    "This notebook also contains examples on how to use `sympy` to compute the Jacobian matrix of a system of differential equations."
   ]
  },
  {
   "cell_type": "markdown",
   "metadata": {},
   "source": [
    "## Section 1: Fixed Points and Phase Portrait\n",
    "\n",
    "In this section we will be looking at the dynamics of a system of ODEs with **two coupled** variables, $x$ and $y$.\n",
    "\n",
    "$$\n",
    "\\frac{dx}{dt} = \\alpha x - \\beta x^2 - \\gamma xy\n",
    "$$\n",
    "$$\n",
    "\\frac{dy}{dt} = \\delta y - y^2 - xy\n",
    "$$\n",
    "\n",
    "You may recognize this as the competition dynamics we saw in Lecture 4.\n",
    "The parameters $\\alpha, \\beta, \\gamma, \\delta$ are all positive constants.\n"
   ]
  },
  {
   "cell_type": "markdown",
   "metadata": {},
   "source": [
    "### Task 1: Find the fixed points analytically (with `sympy`)\n",
    "\n",
    "\n",
    "The fixed points are the points where the derivatives are zero.\n",
    "In other words, if the system starts at such a point, it will remain fixed there unless perturbed."
   ]
  },
  {
   "cell_type": "code",
   "execution_count": null,
   "metadata": {},
   "outputs": [],
   "source": [
    "from sympy import symbols, Eq, solve\n",
    "\n",
    "# Declare variables, hint: use symbols()\n",
    "x, y = # your code here\n",
    "\n",
    "alpha, beta, gamma, delta = # your code here\n",
    "\n",
    "# Define the equations for dx/dt and dy/dt\n",
    "\n",
    "# Set up equations for fixed points\n",
    "eq1 = # your code here\n",
    "eq2 = # your code here\n",
    "\n",
    "# Solve for fixed points\n",
    "fixed_points = # your code here"
   ]
  },
  {
   "cell_type": "markdown",
   "metadata": {},
   "source": [
    "### Task 2: Plot the phase portrait\n",
    "\n",
    "The phase portrait is a plot of the trajectories of the system in the $x-y$ plane. It is useful to visualise the dynamics of the system.\n"
   ]
  },
  {
   "cell_type": "code",
   "execution_count": null,
   "metadata": {},
   "outputs": [],
   "source": [
    "import matplotlib.pyplot as plt\n",
    "import numpy as np\n",
    "\n",
    "# Step 1: Find numerical fixed points for the symbolic solutions you found earlier.\n",
    "# You can start with these values (Slide 11), but feel free to change them to see what happens.\n",
    "\n",
    "alpha_val = 3\n",
    "beta_val = 1\n",
    "gamma_val = 2\n",
    "delta_val = 2\n",
    "\n",
    "fixed_points_val = []\n",
    "for x, y in fixed_points:\n",
    "    # **Hint:** Look at the sympy documentation for the `subs` method\n",
    "    # your code here\n",
    "    pass\n",
    "\n",
    "\n",
    "# Step 2: Generate streamplot of the vector field defined by the equations above.\n",
    "# **Hint:** Look at the matplotlib documentation for the `streamplot` function.\n",
    "X, Y = np.meshgrid(np.linspace(0, 3.5, 40), np.linspace(0, 3.5, 40))\n",
    "\n",
    "# compute the vector field at the meshgrid points\n",
    "U = # your code here\n",
    "V = # your code here\n",
    "\n",
    "# use plt.streamplot to plot\n",
    "\n",
    "# Step 3: Overlay fixed points onto the streamplot"
   ]
  },
  {
   "cell_type": "markdown",
   "metadata": {},
   "source": [
    "## Section 2: Stability of Fixed Points"
   ]
  },
  {
   "cell_type": "markdown",
   "metadata": {},
   "source": [
    "Using the same system as above, investigate the stability of the fixed points.\n",
    "\n",
    "1. Find the fixed points of the system (i.e., Task 1 above).\n",
    "1. Define the Jacobian matrix of the system.\n",
    "2. Find its eigenvalues at each fixed point.\n",
    "3. Determine the stability (see Lecture 4, Slide 12).\n",
    "\n",
    "The Jacobian matrix is given by:\n",
    "\n",
    "$$\n",
    "J = \\begin{bmatrix}\n",
    "\\frac{\\partial f}{\\partial x} & \\frac{\\partial f}{\\partial y} \\\\\n",
    "\\frac{\\partial g}{\\partial x} & \\frac{\\partial g}{\\partial y}\n",
    "\\end{bmatrix}\n",
    "$$\n"
   ]
  },
  {
   "cell_type": "code",
   "execution_count": null,
   "metadata": {},
   "outputs": [],
   "source": [
    "# 1. Find Fixed Points (Same system as above)\n",
    "x, y = symbols('x y')\n",
    "\n",
    "# this time we will use explicit values for the parameters\n",
    "alpha, beta, gamma, delta = 3, 1, 2, 2\n",
    "\n",
    "f = # your code here\n",
    "g = # your code here\n",
    "\n",
    "fixed_points = # your code here"
   ]
  },
  {
   "cell_type": "code",
   "execution_count": null,
   "metadata": {},
   "outputs": [],
   "source": [
    "# 2. Create the Jacobian Matrix\n",
    "# Hint: use Matrix and diff from sympy to compute the Jacobian matrix\n",
    "from sympy import diff, Matrix\n",
    "\n",
    "\n",
    "# Define the Jacobian matrix\n",
    "J = # your code here"
   ]
  },
  {
   "cell_type": "code",
   "execution_count": null,
   "metadata": {},
   "outputs": [],
   "source": [
    "# 3. Compute eigenvalues for each fixed point "
   ]
  },
  {
   "cell_type": "markdown",
   "metadata": {},
   "source": [
    "## Section 3: An Application\n",
    "In the **Goodwin model**, we saw how interactions between **employment** and **wages** can generate endogenous cycles — much like the predator–prey dynamics in biology.\n",
    "\n",
    "We now explore a closely related system in an **economic–ecological context**, inspired by the same *Lotka–Volterra structure*:\n",
    "\n",
    "1. **Resource ($r$)** — analogous to *prey* or *output capacity*, grows naturally at rate $a$ (e.g. grain, fish, or renewable input).\n",
    "2. **Producers ($y$)** — analogous to *predators* or *firms*, consume the resource to produce output, facing an operating cost $c$.\n",
    "3. **Interaction** — production (and resource depletion) occur at a rate $k$, proportional to both $r$ and $y$.\n",
    "\n",
    "This leads to the coupled differential equations:\n",
    "$$\n",
    "\\frac{dr}{dt} = a r - k y r\n",
    "$$\n",
    "$$\n",
    "\\frac{dy}{dt} = k y r - c y\n",
    "$$\n",
    "\n",
    "These equations have exactly the same *mathematical skeleton* as the Goodwin model — but now framed in terms of **resources and producers** rather than **workers and capitalists**."
   ]
  },
  {
   "cell_type": "markdown",
   "metadata": {},
   "source": [
    "### Task 1: Find the fixed points and the eigenvalues of the Jacobian matrix\n",
    "\n",
    "What do we learn from these eigenvalues?"
   ]
  },
  {
   "cell_type": "code",
   "execution_count": null,
   "metadata": {},
   "outputs": [],
   "source": [
    "# 1. Declare variables as symbols\n",
    "\n",
    "# 2. Define parameters\n",
    "\n",
    "# 3. Define the differential equations\n",
    "\n",
    "# 4. Find Fixed Points\n",
    "\n",
    "# 5. Define the Jacobian matrix\n",
    "\n",
    "# 6. Compute eigenvalues at each fixed point"
   ]
  },
  {
   "cell_type": "markdown",
   "metadata": {},
   "source": [
    "### Task 2: Plot the phase portrait"
   ]
  },
  {
   "cell_type": "code",
   "execution_count": null,
   "metadata": {},
   "outputs": [],
   "source": [
    "def lv_system(x, t, a, k, c):\n",
    "    # your code here\n",
    "    return [dR_dt, dY_dt]"
   ]
  },
  {
   "cell_type": "code",
   "execution_count": null,
   "metadata": {},
   "outputs": [],
   "source": [
    "# plot Phase Portrait"
   ]
  },
  {
   "cell_type": "markdown",
   "metadata": {},
   "source": [
    "### Task 3: Adapt the model (Optional)\n",
    "\n",
    "1. Given the base model, change it to include a new concept, e.g., consumers, multiple resources, etc.\n",
    "2. Make a new phase portrait for the adapted model.\n",
    "3. Describe how the changes affect the dynamics of the system."
   ]
  },
  {
   "cell_type": "code",
   "execution_count": null,
   "metadata": {},
   "outputs": [],
   "source": []
  }
 ],
 "metadata": {
  "kernelspec": {
   "display_name": "edc",
   "language": "python",
   "name": "python3"
  },
  "language_info": {
   "codemirror_mode": {
    "name": "ipython",
    "version": 3
   },
   "file_extension": ".py",
   "mimetype": "text/x-python",
   "name": "python",
   "nbconvert_exporter": "python",
   "pygments_lexer": "ipython3",
   "version": "3.11.5"
  }
 },
 "nbformat": 4,
 "nbformat_minor": 2
}
