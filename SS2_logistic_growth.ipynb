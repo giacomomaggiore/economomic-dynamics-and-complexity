{
 "cells": [
  {
   "cell_type": "markdown",
   "metadata": {},
   "source": [
    "## Self Study 2: Saturated growth and carrying capacity\n",
    "\n",
    "In this exercise, you will explore the logistic growth, used to describe how a population grows in a limited environment. Unlike exponential growth, logistic growth takes into account limitations in resources, represented by a \"carrying capacity.\" The equation for logistic growth is:\n",
    "\n",
    "$$\n",
    "\\frac{dP}{dt} = rP \\left(1 - \\frac{P}{K}\\right)\n",
    "$$\n",
    "\n",
    "Here, $ P $ is the population at time $ t $, $ r $ is the growth rate, and $ K $ is the carrying capacity of the environment. We'll use Python and the `odeint` function from `scipy.integrate` to solve this equation and visualize the results.\n"
   ]
  },
  {
   "cell_type": "markdown",
   "metadata": {},
   "source": [
    "## Section 1: Logistic growth"
   ]
  },
  {
   "cell_type": "markdown",
   "metadata": {},
   "source": [
    "#### Task 1: Import Required Libraries\n",
    "\n",
    "First, let's import the libraries we'll need. Fill in the missing code to import NumPy, SciPy's `odeint`, and Matplotlib."
   ]
  },
  {
   "cell_type": "code",
   "execution_count": null,
   "metadata": {},
   "outputs": [],
   "source": [
    "# Your code here for importing NumPy\n",
    "# Your code here for importing odeint from scipy.integrate\n",
    "# Your code here for importing Matplotlib"
   ]
  },
  {
   "cell_type": "markdown",
   "metadata": {},
   "source": [
    "\n",
    "#### Task 2: Define the Logistic Growth Function\n",
    "\n",
    "Next, define a function called `logistic_growth` that computes the right-hand side of the logistic equation. The function should take four arguments: $ P $, $ t $, $ r $, and $ K $.\n"
   ]
  },
  {
   "cell_type": "code",
   "execution_count": 1,
   "metadata": {},
   "outputs": [],
   "source": [
    "def logistic_growth(P, t, r, K):\n",
    "    # Your code here to compute dP/dt\n",
    "    return # Your code here"
   ]
  },
  {
   "cell_type": "markdown",
   "metadata": {},
   "source": [
    "\n",
    "#### Task 3: Set Parameters and Initial Conditions\n",
    "\n",
    "Create variables for the growth rate ($ r = 0.1 $), carrying capacity ($ K = 1000 $), and initial population ($ P_0 = 1 $).\n"
   ]
  },
  {
   "cell_type": "code",
   "execution_count": 2,
   "metadata": {},
   "outputs": [],
   "source": [
    "# Your code here for setting r\n",
    "# Your code here for setting K\n",
    "# Your code here for setting initial population P_0"
   ]
  },
  {
   "cell_type": "markdown",
   "metadata": {},
   "source": [
    "#### Task 4: Time Span and ODE Solver\n",
    "\n",
    "Set up the time span for the simulation from $ t = 0 $ to $ t = 100 $ and solve the ODE using `odeint`.\n"
   ]
  },
  {
   "cell_type": "code",
   "execution_count": 3,
   "metadata": {},
   "outputs": [],
   "source": [
    "# Your code here for creating time array from 0 to 100\n",
    "# Your code here for solving the ODE using odeint"
   ]
  },
  {
   "cell_type": "markdown",
   "metadata": {},
   "source": [
    "#### Task 5: Plot the Results using ipywidgets\n",
    "\n",
    "For this task, the code is provided. The widget allows you to vary $r$, $K$, and $P_0$ to observe how the graph changes."
   ]
  },
  {
   "cell_type": "code",
   "execution_count": 8,
   "metadata": {},
   "outputs": [],
   "source": [
    "import ipywidgets as widgets\n",
    "from IPython.display import display\n",
    "\n",
    "def plot_func(r, K, P_0):\n",
    "    t = np.linspace(0, 100, 500)\n",
    "    P = odeint(logistic_growth, P_0, t, args=(r, K))\n",
    "    plt.figure(figsize=(8, 6))\n",
    "    plt.plot(t, P, label='Logistic Growth')\n",
    "    plt.xlabel('Time')\n",
    "    plt.ylabel('Population')\n",
    "    plt.title('Logistic Growth Model')\n",
    "    plt.legend()\n",
    "    plt.grid(True)\n",
    "    plt.show()\n",
    "\n",
    "r_slider = widgets.FloatSlider(value=0.1, min=0, max=1.0, step=0.01, description='r:')\n",
    "K_slider = widgets.IntSlider(value=1000, min=100, max=5000, step=50, description='K:')\n",
    "P0_slider = widgets.IntSlider(value=1, min=1, max=100, step=1, description='P0:')\n",
    "\n",
    "widgets.interactive(plot_func, r=r_slider, K=K_slider, P_0=P0_slider)\n"
   ]
  },
  {
   "cell_type": "markdown",
   "metadata": {},
   "source": [
    "## Section 2: Questions"
   ]
  },
  {
   "cell_type": "markdown",
   "metadata": {},
   "source": [
    "Given the code you've written y explore the following questions, you my need to change the code to answer the questions:\n",
    "\n",
    "1.  **Initial Population**: How does changing the initial population $P_0$ affect the long-term population size? Does it converge to the same value regardless of where it starts?\n",
    "\n",
    "2. **Rate of Convergence**: How does the growth rate $r$ affect the speed at which the population reaches the carrying capacity $K$?\n",
    "\n",
    "3. **Overshooting**: Is it possible for the population to exceed the carrying capacity temporarily before settling down to $K$?\n",
    "\n",
    "4. **Resource Limitations**: The carrying capacity $K$ is a representation of the environment's limitations. What might happen if these limitations change over time (i.e., $K$ is not constant)?\n",
    "\n",
    "5. **Comparison with Exponential Growth**: How does logistic growth differ from exponential growth, especially in the context of limited resources?\n",
    "\n",
    "6. **Stability Analysis**: Is the carrying capacity $K$ a stable equilibrium point? Would small perturbations in population around $K$ grow over time or diminish?\n",
    "\n",
    "7. **Real-world Applications**: Can you think of real-world scenarios where logistic growth is a more appropriate model than exponential growth? And vice versa?\n"
   ]
  }
 ],
 "metadata": {
  "kernelspec": {
   "display_name": "dl",
   "language": "python",
   "name": "python3"
  },
  "language_info": {
   "codemirror_mode": {
    "name": "ipython",
    "version": 3
   },
   "file_extension": ".py",
   "mimetype": "text/x-python",
   "name": "python",
   "nbconvert_exporter": "python",
   "pygments_lexer": "ipython3",
   "version": "3.10.9"
  },
  "orig_nbformat": 4
 },
 "nbformat": 4,
 "nbformat_minor": 2
}
