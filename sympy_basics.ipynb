{
 "cells": [
  {
   "cell_type": "markdown",
   "metadata": {},
   "source": [
    "# Sympy Basics"
   ]
  },
  {
   "cell_type": "markdown",
   "metadata": {},
   "source": [
    "In self-study 05 and subsequent, we make use of symbolic mathematics to find fixed points analytically.\n",
    "Below is a *very* short overview of how to use `sympy`.\n",
    "Fore more details, see the [sympy documentation](https://docs.sympy.org/latest/tutorial/index.html)."
   ]
  },
  {
   "cell_type": "code",
   "execution_count": 10,
   "metadata": {},
   "outputs": [
    {
     "data": {
      "text/latex": [
       "$\\displaystyle x e^{y} + y$"
      ],
      "text/plain": [
       "x*exp(y) + y"
      ]
     },
     "execution_count": 10,
     "metadata": {},
     "output_type": "execute_result"
    }
   ],
   "source": [
    "# Declare symbols to represent unknown variables\n",
    "from sympy import symbols, exp\n",
    "x, y = symbols('x y')\n",
    "f = x * exp(y) + y\n",
    "f"
   ]
  },
  {
   "cell_type": "code",
   "execution_count": 11,
   "metadata": {},
   "outputs": [
    {
     "data": {
      "text/latex": [
       "$\\displaystyle \\frac{- b - \\sqrt{- 4 a c + b^{2}}}{2 a}$"
      ],
      "text/plain": [
       "(-b - sqrt(-4*a*c + b**2))/(2*a)"
      ]
     },
     "execution_count": 11,
     "metadata": {},
     "output_type": "execute_result"
    }
   ],
   "source": [
    "# Solve the quadratic: ax^2 + bx + c = 0\n",
    "from sympy import Eq, solve\n",
    "\n",
    "a, b, c = symbols('a b c')\n",
    "roots = solve(Eq(a*x**2 + b*x + c, 0), x)\n",
    "\n",
    "roots[0]"
   ]
  },
  {
   "cell_type": "code",
   "execution_count": 12,
   "metadata": {},
   "outputs": [
    {
     "data": {
      "text/latex": [
       "$\\displaystyle \\left[\\begin{matrix}1 & 2\\\\x & 4\\end{matrix}\\right]$"
      ],
      "text/plain": [
       "Matrix([\n",
       "[1, 2],\n",
       "[x, 4]])"
      ]
     },
     "execution_count": 12,
     "metadata": {},
     "output_type": "execute_result"
    }
   ],
   "source": [
    "# Use the Matrix class for matrix operations\n",
    "from sympy import Matrix\n",
    "A = Matrix([[1, 2], [x, 4]])\n",
    "A"
   ]
  },
  {
   "cell_type": "code",
   "execution_count": 13,
   "metadata": {},
   "outputs": [
    {
     "data": {
      "text/latex": [
       "$\\displaystyle e^{x}$"
      ],
      "text/plain": [
       "exp(x)"
      ]
     },
     "execution_count": 13,
     "metadata": {},
     "output_type": "execute_result"
    }
   ],
   "source": [
    "# compute the derivative of a function\n",
    "from sympy import diff\n",
    "\n",
    "f = exp(x)\n",
    "diff(f, x)"
   ]
  },
  {
   "cell_type": "code",
   "execution_count": 14,
   "metadata": {},
   "outputs": [
    {
     "data": {
      "text/latex": [
       "$\\displaystyle \\left[\\begin{matrix}2 x y & x^{2}\\\\1 & 2 y\\end{matrix}\\right]$"
      ],
      "text/plain": [
       "Matrix([\n",
       "[2*x*y, x**2],\n",
       "[    1,  2*y]])"
      ]
     },
     "execution_count": 14,
     "metadata": {},
     "output_type": "execute_result"
    }
   ],
   "source": [
    "# Define the Jacobian matrix in dynamical systems\n",
    "from sympy import diff\n",
    "f = x**2 * y\n",
    "g = x + y**2\n",
    "J = Matrix([\n",
    "    [diff(f, x), diff(f, y)],\n",
    "    [diff(g, x), diff(g, y)]\n",
    "    ])\n",
    "J"
   ]
  },
  {
   "cell_type": "code",
   "execution_count": 15,
   "metadata": {},
   "outputs": [
    {
     "data": {
      "text/latex": [
       "$\\displaystyle y \\left(x + 1\\right) - \\sqrt{x^{2} y^{2} + x^{2} - 2 x y^{2} + y^{2}}$"
      ],
      "text/plain": [
       "y*(x + 1) - sqrt(x**2*y**2 + x**2 - 2*x*y**2 + y**2)"
      ]
     },
     "execution_count": 15,
     "metadata": {},
     "output_type": "execute_result"
    }
   ],
   "source": [
    "# To find eigenvalues of the Jacobian matrix\n",
    "eigenvalues = J.eigenvals()\n",
    "evs = list(eigenvalues) # extract the sympy objects from the dictionary\n",
    "evs[0]"
   ]
  },
  {
   "cell_type": "code",
   "execution_count": 16,
   "metadata": {},
   "outputs": [
    {
     "data": {
      "text/latex": [
       "$\\displaystyle y \\left(x + 1\\right) + \\sqrt{x^{2} y^{2} + x^{2} - 2 x y^{2} + y^{2}}$"
      ],
      "text/plain": [
       "y*(x + 1) + sqrt(x**2*y**2 + x**2 - 2*x*y**2 + y**2)"
      ]
     },
     "execution_count": 16,
     "metadata": {},
     "output_type": "execute_result"
    }
   ],
   "source": [
    "evs[1]"
   ]
  },
  {
   "cell_type": "code",
   "execution_count": 18,
   "metadata": {},
   "outputs": [
    {
     "name": "stdout",
     "output_type": "stream",
     "text": [
      "(3, 5)\n"
     ]
    }
   ],
   "source": [
    "# substitute values for x and y\n",
    "prova= evs[0].subs({x: 1, y: 2}), evs[1].subs({x: 1, y: 2})\n",
    "print(prova)"
   ]
  }
 ],
 "metadata": {
  "kernelspec": {
   "display_name": "Python 3",
   "language": "python",
   "name": "python3"
  },
  "language_info": {
   "codemirror_mode": {
    "name": "ipython",
    "version": 3
   },
   "file_extension": ".py",
   "mimetype": "text/x-python",
   "name": "python",
   "nbconvert_exporter": "python",
   "pygments_lexer": "ipython3",
   "version": "3.12.2"
  }
 },
 "nbformat": 4,
 "nbformat_minor": 2
}
