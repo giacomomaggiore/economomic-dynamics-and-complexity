{
 "cells": [
  {
   "cell_type": "markdown",
   "metadata": {},
   "source": [
    "# Self Study: The Kaldor Model\n",
    "\n",
    "In this notebook, we'll explore the Kaldor business cycle. The model demonstrates how nonlinear interactions between investment and savings can generate persistent economic cycles and hysteresis effects.\n",
    "\n",
    "## The Model\n",
    "\n",
    "The Kaldor model describes an economy using two state variables:\n",
    "\n",
    "1. **Output ($ Y $)**: Total production in the economy\n",
    "2. **Capital Stock ($ K $)**: Accumulated productive capacity (Capital)\n",
    "\n",
    "The dynamics are governed by:\n",
    "\n",
    "$$\n",
    "\\frac{dY}{dt} = \\alpha \\left( I(Y, K) - S(Y, K) \\right)\n",
    "$$\n",
    "$$\n",
    "\\frac{dK}{dt} = I(Y, K) - \\delta K\n",
    "$$\n",
    "\n",
    "\n",
    "### Functional Forms\n",
    "\n",
    "**Investment:** Linear in Y, decreasing in K\n",
    "$$\n",
    "I(Y, K) = i \\cdot Y - K\n",
    "$$\n",
    "- Higher output → more profitable investment opportunities\n",
    "- Higher capital stock → fewer new opportunities (diminishing returns)\n",
    "\n",
    "**Savings:** Cubic in Y (nonlinear!)\n",
    "$$\n",
    "S(Y, K) = Y^3 + s \\cdot Y + K\n",
    "$$\n",
    "- Low income: negative savings (dissaving)\n",
    "- Medium income: moderate saving rate\n",
    "- High income: rapid increase in savings (cubic term dominates)"
   ]
  },
  {
   "cell_type": "code",
   "execution_count": null,
   "metadata": {},
   "outputs": [],
   "source": [
    "# import libarries\n",
    "import numpy as np\n",
    "import matplotlib.pyplot as plt\n",
    "from ipywidgets import interact, FloatSlider\n",
    "from scipy.integrate import odeint"
   ]
  },
  {
   "cell_type": "markdown",
   "metadata": {},
   "source": [
    "## Section 1: Understanding Investment and Savings Functions"
   ]
  },
  {
   "cell_type": "markdown",
   "metadata": {},
   "source": [
    "### Task 1.1: Define the model functions\n",
    "\n",
    "Implement the four core functions of the Kaldor model:\n",
    "- `savings(Y, K, s)`: Cubic savings function\n",
    "- `investment(Y, K, i)`: Linear investment function  \n",
    "- `dYdt(I, S, alpha)`: Income dynamics\n",
    "- `dKdt(I, K, delta)`: Capital dynamics"
   ]
  },
  {
   "cell_type": "code",
   "execution_count": 1,
   "metadata": {},
   "outputs": [],
   "source": [
    "def savings(Y, K, s):\n",
    "    S = Y*Y*Y + s*Y + K\n",
    "    return S\n",
    "\n",
    "\n",
    "def investment(Y, K, i):\n",
    "    I = i * Y - K\n",
    "    return I\n",
    "\n",
    "\n",
    "def dYdt(I, S, alpha):\n",
    "    dYdt = alpha * (I - S)\n",
    "    return dYdt\n",
    "\n",
    "def dKdt(I, K, delta): \n",
    "    dKdt = I - delta * K\n",
    "    return dKdt \n",
    "    "
   ]
  },
  {
   "cell_type": "markdown",
   "metadata": {},
   "source": [
    "### Task 1.2: Visualize Investment and Savings Curves\n",
    "\n",
    "Create an interactive plot showing $I(Y)$ and $S(Y)$ for different parameter values.\n",
    "As wells as $\\dot Y$ vs $Y$.\n",
    "\n",
    "Show that varrying $K$ changes the number of equilibria (either multiple plots or an interactive plot)."
   ]
  },
  {
   "cell_type": "code",
   "execution_count": 16,
   "metadata": {},
   "outputs": [
    {
     "data": {
      "application/vnd.jupyter.widget-view+json": {
       "model_id": "e03271d02ebf401383839d6cc8f06fea",
       "version_major": 2,
       "version_minor": 0
      },
      "text/plain": [
       "interactive(children=(FloatSlider(value=1.0, description='K', max=2.0, step=0.01), FloatSlider(value=1.0, desc…"
      ]
     },
     "metadata": {},
     "output_type": "display_data"
    },
    {
     "data": {
      "text/plain": [
       "<function __main__.plot_I_K(K, s, alpha, delta, i)>"
      ]
     },
     "execution_count": 16,
     "metadata": {},
     "output_type": "execute_result"
    }
   ],
   "source": [
    "import numpy as np\n",
    "from ipywidgets import interact\n",
    "import matplotlib.pyplot as plt\n",
    "\n",
    "\n",
    "def plot_I_K(K, s, alpha, delta, i):\n",
    "    \n",
    "    Y = np.linspace(-3, 3, 400)\n",
    "    S = savings(Y, K, s)\n",
    "    I = investment(Y, K, i)\n",
    "    \n",
    "    \n",
    "    plt.figure(figsize=(8, 6))\n",
    "    plt.plot(Y, S, label='Savings S(Y,K)', color='blue')\n",
    "    plt.plot(Y, I, label='Investment I(Y,K)', color='red')\n",
    "    plt.xlim(-3, 3)\n",
    "    plt.ylim(-3, 3)\n",
    "    plt.xlabel('Output (Y)')\n",
    "    plt.ylabel('Capital (K)')\n",
    "    plt.title('Phase Diagram of Kaldor Model')\n",
    "    plt.grid()\n",
    "    plt.show()\n",
    "\n",
    "interact(plot_I_K, K=(0, 2, 0.01), s=(0, 2, 0.01), i=(0, 2, 0.01), alpha=(0.1, 2, 0.01), delta=(0.1, 2, 0.01))"
   ]
  },
  {
   "cell_type": "code",
   "execution_count": 19,
   "metadata": {},
   "outputs": [
    {
     "data": {
      "application/vnd.jupyter.widget-view+json": {
       "model_id": "869ce9a552234e088b305389bf4e9e3f",
       "version_major": 2,
       "version_minor": 0
      },
      "text/plain": [
       "interactive(children=(FloatSlider(value=1.0, description='K', max=2.0, step=0.01), FloatSlider(value=1.0, desc…"
      ]
     },
     "metadata": {},
     "output_type": "display_data"
    },
    {
     "data": {
      "text/plain": [
       "<function __main__.plot_dYdt(K, s, alpha, delta, i)>"
      ]
     },
     "execution_count": 19,
     "metadata": {},
     "output_type": "execute_result"
    }
   ],
   "source": [
    "def plot_dYdt(K, s, alpha, delta, i):\n",
    "    Y_values = np.linspace(-3, 3, 400)\n",
    "    dYdt_values = []\n",
    "    for Y in Y_values:\n",
    "        S = savings(Y, K, s)\n",
    "        I = investment(Y, K, i)\n",
    "        dYdt_values.append(dYdt(I, S, alpha))\n",
    "    \n",
    "    plt.figure(figsize=(8, 6))\n",
    "    plt.plot(Y_values, dYdt_values, label='dY/dt', color='green')\n",
    "    plt.xlabel('Output (Y)')\n",
    "    plt.ylabel('dY/dt')\n",
    "    plt.title('Dynamics of Output in Kaldor Model')\n",
    "    plt.axhline(0, color='black', lw=0.5, ls='--')\n",
    "    plt.xlim(-3, 3)\n",
    "\n",
    "\n",
    "interact(plot_dYdt, K=(0, 2, 0.01), s=(0, 2, 0.01), i=(0, 2, 0.01), alpha=(0.1, 2, 0.01), delta=(0.1, 2, 0.01))"
   ]
  },
  {
   "cell_type": "markdown",
   "metadata": {},
   "source": [
    "## Section 2: Biffurcation"
   ]
  },
  {
   "cell_type": "markdown",
   "metadata": {},
   "source": [
    "### Task 2.1: Bifurcation Diagram (K vs Y*)\n",
    "\n",
    "Find the analytical solution to for the points wher $Y^*=0$ as a function of $K$."
   ]
  },
  {
   "cell_type": "code",
   "execution_count": 113,
   "metadata": {},
   "outputs": [
    {
     "data": {
      "text/latex": [
       "$\\displaystyle - \\frac{\\left(- \\frac{1}{2} - \\frac{\\sqrt{3} i}{2}\\right) \\sqrt[3]{- 27 K + \\frac{\\sqrt{2916 K^{2} - 4 \\left(- 3 i + 3 s\\right)^{3}}}{2}}}{3} - \\frac{- 3 i + 3 s}{3 \\left(- \\frac{1}{2} - \\frac{\\sqrt{3} i}{2}\\right) \\sqrt[3]{- 27 K + \\frac{\\sqrt{2916 K^{2} - 4 \\left(- 3 i + 3 s\\right)^{3}}}{2}}}$"
      ],
      "text/plain": [
       "-(-1/2 - sqrt(3)*I/2)*(-27*K + sqrt(2916*K**2 - 4*(-3*i + 3*s)**3)/2)**(1/3)/3 - (-3*i + 3*s)/(3*(-1/2 - sqrt(3)*I/2)*(-27*K + sqrt(2916*K**2 - 4*(-3*i + 3*s)**3)/2)**(1/3))"
      ]
     },
     "execution_count": 113,
     "metadata": {},
     "output_type": "execute_result"
    }
   ],
   "source": [
    "import sympy as sympy\n",
    "from sympy import Eq, solve\n",
    "from sympy import symbols\n",
    "from scipy.integrate import odeint\n",
    "\n",
    "Y, S, I, K = sympy.symbols('Y S I K')\n",
    "alpha = sympy.symbols('alpha')\n",
    "delta = sympy.symbols('delta')\n",
    "i = sympy.symbols('i')\n",
    "s = sympy.symbols('s')\n",
    "\n",
    "S = -  Y*Y*Y + s * Y + K\n",
    "I = i * Y - K\n",
    "\n",
    "dYdt = alpha * (I - S)\n",
    "\n",
    "solution = solve(Eq(dYdt, 0), Y)\n",
    "solution = solution[0]\n",
    "solution"
   ]
  },
  {
   "cell_type": "markdown",
   "metadata": {},
   "source": [
    "### Task 2.2: Plot the Bifurcation Diagram ($Y^*$ as function of $K$)"
   ]
  },
  {
   "cell_type": "code",
   "execution_count": 120,
   "metadata": {},
   "outputs": [
    {
     "name": "stdout",
     "output_type": "stream",
     "text": [
      "0.793683989178338 - 0.0629973650492339/(-1/2 - sqrt(3)*I/2) + 0.793683989178338*sqrt(3)*I\n",
      "0.79097480744888 - 0.063213138432644/(-1/2 - sqrt(3)*I/2) + 0.79097480744888*sqrt(3)*I\n",
      "0.788246935355847 - 0.0634318990119866/(-1/2 - sqrt(3)*I/2) + 0.788246935355847*sqrt(3)*I\n",
      "0.785500047103249 - 0.0636537199257836/(-1/2 - sqrt(3)*I/2) + 0.785500047103249*sqrt(3)*I\n",
      "0.782733807710665 - 0.0638786768981395/(-1/2 - sqrt(3)*I/2) + 0.782733807710665*sqrt(3)*I\n",
      "0.779947872653348 - 0.0641068483588553/(-1/2 - sqrt(3)*I/2) + 0.779947872653348*sqrt(3)*I\n",
      "0.777141887484187 - 0.064338315570485/(-1/2 - sqrt(3)*I/2) + 0.777141887484187*sqrt(3)*I\n",
      "0.7743154874364 - 0.0645731627628161/(-1/2 - sqrt(3)*I/2) + 0.7743154874364*sqrt(3)*I\n",
      "0.771468297005751 - 0.0648114772752966/(-1/2 - sqrt(3)*I/2) + 0.771468297005751*sqrt(3)*I\n",
      "0.768599929510993 - 0.0650533497079704/(-1/2 - sqrt(3)*I/2) + 0.768599929510993*sqrt(3)*I\n",
      "0.765709986631146 - 0.0652988740815336/(-1/2 - sqrt(3)*I/2) + 0.765709986631146*sqrt(3)*I\n",
      "0.762798057918112 - 0.0655481480071722/(-1/2 - sqrt(3)*I/2) + 0.762798057918112*sqrt(3)*I\n",
      "0.75986372028301 - 0.0658012728668999/(-1/2 - sqrt(3)*I/2) + 0.75986372028301*sqrt(3)*I\n",
      "0.756906537454478 - 0.0660583540051761/(-1/2 - sqrt(3)*I/2) + 0.756906537454478*sqrt(3)*I\n",
      "0.753926059407093 - 0.0663195009326528/(-1/2 - sqrt(3)*I/2) + 0.753926059407093*sqrt(3)*I\n",
      "0.750921821757845 - 0.0665848275429713/(-1/2 - sqrt(3)*I/2) + 0.750921821757845*sqrt(3)*I\n",
      "0.747893345128496 - 0.0668544523436152/(-1/2 - sqrt(3)*I/2) + 0.747893345128496*sqrt(3)*I\n",
      "0.744840134471443 - 0.0671284987019143/(-1/2 - sqrt(3)*I/2) + 0.744840134471443*sqrt(3)*I\n",
      "0.741761678356523 - 0.0674070951073962/(-1/2 - sqrt(3)*I/2) + 0.741761678356523*sqrt(3)*I\n",
      "0.738657448215961 - 0.0676903754517906/(-1/2 - sqrt(3)*I/2) + 0.738657448215961*sqrt(3)*I\n",
      "0.735526897544463 - 0.0679784793281165/(-1/2 - sqrt(3)*I/2) + 0.735526897544463*sqrt(3)*I\n",
      "0.732369461051154 - 0.0682715523504163/(-1/2 - sqrt(3)*I/2) + 0.732369461051154*sqrt(3)*I\n",
      "0.729184553759802 - 0.0685697464958512/(-1/2 - sqrt(3)*I/2) + 0.729184553759802*sqrt(3)*I\n",
      "0.725971570053455 - 0.0688732204710418/(-1/2 - sqrt(3)*I/2) + 0.725971570053455*sqrt(3)*I\n",
      "0.722729882659247 - 0.0691821401047201/(-1/2 - sqrt(3)*I/2) + 0.722729882659247*sqrt(3)*I\n",
      "0.719458841568774 - 0.0694966787689694/(-1/2 - sqrt(3)*I/2) + 0.719458841568774*sqrt(3)*I\n",
      "0.716157772888995 - 0.0698170178315583/(-1/2 - sqrt(3)*I/2) + 0.716157772888995*sqrt(3)*I\n",
      "0.712825977618154 - 0.0701433471421322/(-1/2 - sqrt(3)*I/2) + 0.712825977618154*sqrt(3)*I\n",
      "0.709462730340708 - 0.0704758655553172/(-1/2 - sqrt(3)*I/2) + 0.709462730340708*sqrt(3)*I\n",
      "0.706067277834627 - 0.0708147814941097/(-1/2 - sqrt(3)*I/2) + 0.706067277834627*sqrt(3)*I\n",
      "0.702638837583848 - 0.0711603135572951/(-1/2 - sqrt(3)*I/2) + 0.702638837583848*sqrt(3)*I\n",
      "0.699176596187901 - 0.0715126911750385/(-1/2 - sqrt(3)*I/2) + 0.699176596187901*sqrt(3)*I\n",
      "0.695679707659945 - 0.0718721553172577/(-1/2 - sqrt(3)*I/2) + 0.695679707659945*sqrt(3)*I\n",
      "0.69214729160356 - 0.0722389592599004/(-1/2 - sqrt(3)*I/2) + 0.69214729160356*sqrt(3)*I\n",
      "0.688578431257639 - 0.0726133694148371/(-1/2 - sqrt(3)*I/2) + 0.688578431257639*sqrt(3)*I\n",
      "0.684972171397603 - 0.0729956662297404/(-1/2 - sqrt(3)*I/2) + 0.684972171397603*sqrt(3)*I\n",
      "0.681327516079907 - 0.073386145165075/(-1/2 - sqrt(3)*I/2) + 0.681327516079907*sqrt(3)*I\n",
      "0.677643426215393 - 0.073785117756174/(-1/2 - sqrt(3)*I/2) + 0.677643426215393*sqrt(3)*I\n",
      "0.673918816955451 - 0.074192912769351/(-1/2 - sqrt(3)*I/2) + 0.673918816955451*sqrt(3)*I\n",
      "0.670152554873138 - 0.0746098774621028/(-1/2 - sqrt(3)*I/2) + 0.670152554873138*sqrt(3)*I\n",
      "0.666343454919401 - 0.0750363789587276/(-1/2 - sqrt(3)*I/2) + 0.666343454919401*sqrt(3)*I\n",
      "0.662490277132202 - 0.0754728057541324/(-1/2 - sqrt(3)*I/2) + 0.662490277132202*sqrt(3)*I\n",
      "0.658591723073753 - 0.0759195693602738/(-1/2 - sqrt(3)*I/2) + 0.658591723073753*sqrt(3)*I\n",
      "0.65464643196808 - 0.0763771061115902/(-1/2 - sqrt(3)*I/2) + 0.65464643196808*sqrt(3)*I\n",
      "0.650652976507713 - 0.0768458791480027/(-1/2 - sqrt(3)*I/2) + 0.650652976507713*sqrt(3)*I\n",
      "0.646609858294429 - 0.0773263805966176/(-1/2 - sqrt(3)*I/2) + 0.646609858294429*sqrt(3)*I\n",
      "0.642515502874495 - 0.0778191339762376/(-1/2 - sqrt(3)*I/2) + 0.642515502874495*sqrt(3)*I\n",
      "0.63836825432375 - 0.0783246968522379/(-1/2 - sqrt(3)*I/2) + 0.63836825432375*sqrt(3)*I\n",
      "0.634166369331916 - 0.0788436637733946/(-1/2 - sqrt(3)*I/2) + 0.634166369331916*sqrt(3)*I\n",
      "0.629908010728758 - 0.0793766695269578/(-1/2 - sqrt(3)*I/2) + 0.629908010728758*sqrt(3)*I\n"
     ]
    },
    {
     "ename": "TypeError",
     "evalue": "Cannot convert complex to float",
     "output_type": "error",
     "traceback": [
      "\u001b[0;31m---------------------------------------------------------------------------\u001b[0m",
      "\u001b[0;31mTypeError\u001b[0m                                 Traceback (most recent call last)",
      "Cell \u001b[0;32mIn[120], line 12\u001b[0m\n\u001b[1;32m      9\u001b[0m     \u001b[38;5;28mprint\u001b[39m(Y_ss)\n\u001b[1;32m     10\u001b[0m     Y_ss_values\u001b[38;5;241m.\u001b[39mappend((Y_ss))\n\u001b[0;32m---> 12\u001b[0m \u001b[43mplt\u001b[49m\u001b[38;5;241;43m.\u001b[39;49m\u001b[43mplot\u001b[49m\u001b[43m(\u001b[49m\u001b[43mK_values\u001b[49m\u001b[43m,\u001b[49m\u001b[43m \u001b[49m\u001b[43mY_ss_values\u001b[49m\u001b[43m)\u001b[49m\n\u001b[1;32m     13\u001b[0m plt\u001b[38;5;241m.\u001b[39mxlabel(\u001b[38;5;124m'\u001b[39m\u001b[38;5;124mCapital (K)\u001b[39m\u001b[38;5;124m'\u001b[39m)\n\u001b[1;32m     14\u001b[0m plt\u001b[38;5;241m.\u001b[39mylabel(\u001b[38;5;124m'\u001b[39m\u001b[38;5;124mSteady-State Output (Y_ss)\u001b[39m\u001b[38;5;124m'\u001b[39m)\n",
      "File \u001b[0;32m/Library/Frameworks/Python.framework/Versions/3.12/lib/python3.12/site-packages/matplotlib/pyplot.py:3590\u001b[0m, in \u001b[0;36mplot\u001b[0;34m(scalex, scaley, data, *args, **kwargs)\u001b[0m\n\u001b[1;32m   3582\u001b[0m \u001b[38;5;129m@_copy_docstring_and_deprecators\u001b[39m(Axes\u001b[38;5;241m.\u001b[39mplot)\n\u001b[1;32m   3583\u001b[0m \u001b[38;5;28;01mdef\u001b[39;00m \u001b[38;5;21mplot\u001b[39m(\n\u001b[1;32m   3584\u001b[0m     \u001b[38;5;241m*\u001b[39margs: \u001b[38;5;28mfloat\u001b[39m \u001b[38;5;241m|\u001b[39m ArrayLike \u001b[38;5;241m|\u001b[39m \u001b[38;5;28mstr\u001b[39m,\n\u001b[0;32m   (...)\u001b[0m\n\u001b[1;32m   3588\u001b[0m     \u001b[38;5;241m*\u001b[39m\u001b[38;5;241m*\u001b[39mkwargs,\n\u001b[1;32m   3589\u001b[0m ) \u001b[38;5;241m-\u001b[39m\u001b[38;5;241m>\u001b[39m \u001b[38;5;28mlist\u001b[39m[Line2D]:\n\u001b[0;32m-> 3590\u001b[0m     \u001b[38;5;28;01mreturn\u001b[39;00m \u001b[43mgca\u001b[49m\u001b[43m(\u001b[49m\u001b[43m)\u001b[49m\u001b[38;5;241;43m.\u001b[39;49m\u001b[43mplot\u001b[49m\u001b[43m(\u001b[49m\n\u001b[1;32m   3591\u001b[0m \u001b[43m        \u001b[49m\u001b[38;5;241;43m*\u001b[39;49m\u001b[43margs\u001b[49m\u001b[43m,\u001b[49m\n\u001b[1;32m   3592\u001b[0m \u001b[43m        \u001b[49m\u001b[43mscalex\u001b[49m\u001b[38;5;241;43m=\u001b[39;49m\u001b[43mscalex\u001b[49m\u001b[43m,\u001b[49m\n\u001b[1;32m   3593\u001b[0m \u001b[43m        \u001b[49m\u001b[43mscaley\u001b[49m\u001b[38;5;241;43m=\u001b[39;49m\u001b[43mscaley\u001b[49m\u001b[43m,\u001b[49m\n\u001b[1;32m   3594\u001b[0m \u001b[43m        \u001b[49m\u001b[38;5;241;43m*\u001b[39;49m\u001b[38;5;241;43m*\u001b[39;49m\u001b[43m(\u001b[49m\u001b[43m{\u001b[49m\u001b[38;5;124;43m\"\u001b[39;49m\u001b[38;5;124;43mdata\u001b[39;49m\u001b[38;5;124;43m\"\u001b[39;49m\u001b[43m:\u001b[49m\u001b[43m \u001b[49m\u001b[43mdata\u001b[49m\u001b[43m}\u001b[49m\u001b[43m \u001b[49m\u001b[38;5;28;43;01mif\u001b[39;49;00m\u001b[43m \u001b[49m\u001b[43mdata\u001b[49m\u001b[43m \u001b[49m\u001b[38;5;129;43;01mis\u001b[39;49;00m\u001b[43m \u001b[49m\u001b[38;5;129;43;01mnot\u001b[39;49;00m\u001b[43m \u001b[49m\u001b[38;5;28;43;01mNone\u001b[39;49;00m\u001b[43m \u001b[49m\u001b[38;5;28;43;01melse\u001b[39;49;00m\u001b[43m \u001b[49m\u001b[43m{\u001b[49m\u001b[43m}\u001b[49m\u001b[43m)\u001b[49m\u001b[43m,\u001b[49m\n\u001b[1;32m   3595\u001b[0m \u001b[43m        \u001b[49m\u001b[38;5;241;43m*\u001b[39;49m\u001b[38;5;241;43m*\u001b[39;49m\u001b[43mkwargs\u001b[49m\u001b[43m,\u001b[49m\n\u001b[1;32m   3596\u001b[0m \u001b[43m    \u001b[49m\u001b[43m)\u001b[49m\n",
      "File \u001b[0;32m/Library/Frameworks/Python.framework/Versions/3.12/lib/python3.12/site-packages/matplotlib/axes/_axes.py:1726\u001b[0m, in \u001b[0;36mAxes.plot\u001b[0;34m(self, scalex, scaley, data, *args, **kwargs)\u001b[0m\n\u001b[1;32m   1724\u001b[0m lines \u001b[38;5;241m=\u001b[39m [\u001b[38;5;241m*\u001b[39m\u001b[38;5;28mself\u001b[39m\u001b[38;5;241m.\u001b[39m_get_lines(\u001b[38;5;28mself\u001b[39m, \u001b[38;5;241m*\u001b[39margs, data\u001b[38;5;241m=\u001b[39mdata, \u001b[38;5;241m*\u001b[39m\u001b[38;5;241m*\u001b[39mkwargs)]\n\u001b[1;32m   1725\u001b[0m \u001b[38;5;28;01mfor\u001b[39;00m line \u001b[38;5;129;01min\u001b[39;00m lines:\n\u001b[0;32m-> 1726\u001b[0m     \u001b[38;5;28;43mself\u001b[39;49m\u001b[38;5;241;43m.\u001b[39;49m\u001b[43madd_line\u001b[49m\u001b[43m(\u001b[49m\u001b[43mline\u001b[49m\u001b[43m)\u001b[49m\n\u001b[1;32m   1727\u001b[0m \u001b[38;5;28;01mif\u001b[39;00m scalex:\n\u001b[1;32m   1728\u001b[0m     \u001b[38;5;28mself\u001b[39m\u001b[38;5;241m.\u001b[39m_request_autoscale_view(\u001b[38;5;124m\"\u001b[39m\u001b[38;5;124mx\u001b[39m\u001b[38;5;124m\"\u001b[39m)\n",
      "File \u001b[0;32m/Library/Frameworks/Python.framework/Versions/3.12/lib/python3.12/site-packages/matplotlib/axes/_base.py:2309\u001b[0m, in \u001b[0;36m_AxesBase.add_line\u001b[0;34m(self, line)\u001b[0m\n\u001b[1;32m   2306\u001b[0m \u001b[38;5;28;01mif\u001b[39;00m line\u001b[38;5;241m.\u001b[39mget_clip_path() \u001b[38;5;129;01mis\u001b[39;00m \u001b[38;5;28;01mNone\u001b[39;00m:\n\u001b[1;32m   2307\u001b[0m     line\u001b[38;5;241m.\u001b[39mset_clip_path(\u001b[38;5;28mself\u001b[39m\u001b[38;5;241m.\u001b[39mpatch)\n\u001b[0;32m-> 2309\u001b[0m \u001b[38;5;28;43mself\u001b[39;49m\u001b[38;5;241;43m.\u001b[39;49m\u001b[43m_update_line_limits\u001b[49m\u001b[43m(\u001b[49m\u001b[43mline\u001b[49m\u001b[43m)\u001b[49m\n\u001b[1;32m   2310\u001b[0m \u001b[38;5;28;01mif\u001b[39;00m \u001b[38;5;129;01mnot\u001b[39;00m line\u001b[38;5;241m.\u001b[39mget_label():\n\u001b[1;32m   2311\u001b[0m     line\u001b[38;5;241m.\u001b[39mset_label(\u001b[38;5;124mf\u001b[39m\u001b[38;5;124m'\u001b[39m\u001b[38;5;124m_child\u001b[39m\u001b[38;5;132;01m{\u001b[39;00m\u001b[38;5;28mlen\u001b[39m(\u001b[38;5;28mself\u001b[39m\u001b[38;5;241m.\u001b[39m_children)\u001b[38;5;132;01m}\u001b[39;00m\u001b[38;5;124m'\u001b[39m)\n",
      "File \u001b[0;32m/Library/Frameworks/Python.framework/Versions/3.12/lib/python3.12/site-packages/matplotlib/axes/_base.py:2332\u001b[0m, in \u001b[0;36m_AxesBase._update_line_limits\u001b[0;34m(self, line)\u001b[0m\n\u001b[1;32m   2328\u001b[0m \u001b[38;5;28;01mdef\u001b[39;00m \u001b[38;5;21m_update_line_limits\u001b[39m(\u001b[38;5;28mself\u001b[39m, line):\n\u001b[1;32m   2329\u001b[0m \u001b[38;5;250m    \u001b[39m\u001b[38;5;124;03m\"\"\"\u001b[39;00m\n\u001b[1;32m   2330\u001b[0m \u001b[38;5;124;03m    Figures out the data limit of the given line, updating self.dataLim.\u001b[39;00m\n\u001b[1;32m   2331\u001b[0m \u001b[38;5;124;03m    \"\"\"\u001b[39;00m\n\u001b[0;32m-> 2332\u001b[0m     path \u001b[38;5;241m=\u001b[39m \u001b[43mline\u001b[49m\u001b[38;5;241;43m.\u001b[39;49m\u001b[43mget_path\u001b[49m\u001b[43m(\u001b[49m\u001b[43m)\u001b[49m\n\u001b[1;32m   2333\u001b[0m     \u001b[38;5;28;01mif\u001b[39;00m path\u001b[38;5;241m.\u001b[39mvertices\u001b[38;5;241m.\u001b[39msize \u001b[38;5;241m==\u001b[39m \u001b[38;5;241m0\u001b[39m:\n\u001b[1;32m   2334\u001b[0m         \u001b[38;5;28;01mreturn\u001b[39;00m\n",
      "File \u001b[0;32m/Library/Frameworks/Python.framework/Versions/3.12/lib/python3.12/site-packages/matplotlib/lines.py:1032\u001b[0m, in \u001b[0;36mLine2D.get_path\u001b[0;34m(self)\u001b[0m\n\u001b[1;32m   1030\u001b[0m \u001b[38;5;250m\u001b[39m\u001b[38;5;124;03m\"\"\"Return the `~matplotlib.path.Path` associated with this line.\"\"\"\u001b[39;00m\n\u001b[1;32m   1031\u001b[0m \u001b[38;5;28;01mif\u001b[39;00m \u001b[38;5;28mself\u001b[39m\u001b[38;5;241m.\u001b[39m_invalidy \u001b[38;5;129;01mor\u001b[39;00m \u001b[38;5;28mself\u001b[39m\u001b[38;5;241m.\u001b[39m_invalidx:\n\u001b[0;32m-> 1032\u001b[0m     \u001b[38;5;28;43mself\u001b[39;49m\u001b[38;5;241;43m.\u001b[39;49m\u001b[43mrecache\u001b[49m\u001b[43m(\u001b[49m\u001b[43m)\u001b[49m\n\u001b[1;32m   1033\u001b[0m \u001b[38;5;28;01mreturn\u001b[39;00m \u001b[38;5;28mself\u001b[39m\u001b[38;5;241m.\u001b[39m_path\n",
      "File \u001b[0;32m/Library/Frameworks/Python.framework/Versions/3.12/lib/python3.12/site-packages/matplotlib/lines.py:674\u001b[0m, in \u001b[0;36mLine2D.recache\u001b[0;34m(self, always)\u001b[0m\n\u001b[1;32m    672\u001b[0m \u001b[38;5;28;01mif\u001b[39;00m always \u001b[38;5;129;01mor\u001b[39;00m \u001b[38;5;28mself\u001b[39m\u001b[38;5;241m.\u001b[39m_invalidy:\n\u001b[1;32m    673\u001b[0m     yconv \u001b[38;5;241m=\u001b[39m \u001b[38;5;28mself\u001b[39m\u001b[38;5;241m.\u001b[39mconvert_yunits(\u001b[38;5;28mself\u001b[39m\u001b[38;5;241m.\u001b[39m_yorig)\n\u001b[0;32m--> 674\u001b[0m     y \u001b[38;5;241m=\u001b[39m \u001b[43m_to_unmasked_float_array\u001b[49m\u001b[43m(\u001b[49m\u001b[43myconv\u001b[49m\u001b[43m)\u001b[49m\u001b[38;5;241m.\u001b[39mravel()\n\u001b[1;32m    675\u001b[0m \u001b[38;5;28;01melse\u001b[39;00m:\n\u001b[1;32m    676\u001b[0m     y \u001b[38;5;241m=\u001b[39m \u001b[38;5;28mself\u001b[39m\u001b[38;5;241m.\u001b[39m_y\n",
      "File \u001b[0;32m/Library/Frameworks/Python.framework/Versions/3.12/lib/python3.12/site-packages/matplotlib/cbook.py:1345\u001b[0m, in \u001b[0;36m_to_unmasked_float_array\u001b[0;34m(x)\u001b[0m\n\u001b[1;32m   1343\u001b[0m     \u001b[38;5;28;01mreturn\u001b[39;00m np\u001b[38;5;241m.\u001b[39mma\u001b[38;5;241m.\u001b[39masarray(x, \u001b[38;5;28mfloat\u001b[39m)\u001b[38;5;241m.\u001b[39mfilled(np\u001b[38;5;241m.\u001b[39mnan)\n\u001b[1;32m   1344\u001b[0m \u001b[38;5;28;01melse\u001b[39;00m:\n\u001b[0;32m-> 1345\u001b[0m     \u001b[38;5;28;01mreturn\u001b[39;00m \u001b[43mnp\u001b[49m\u001b[38;5;241;43m.\u001b[39;49m\u001b[43masarray\u001b[49m\u001b[43m(\u001b[49m\u001b[43mx\u001b[49m\u001b[43m,\u001b[49m\u001b[43m \u001b[49m\u001b[38;5;28;43mfloat\u001b[39;49m\u001b[43m)\u001b[49m\n",
      "File \u001b[0;32m/Library/Frameworks/Python.framework/Versions/3.12/lib/python3.12/site-packages/sympy/core/expr.py:374\u001b[0m, in \u001b[0;36mExpr.__float__\u001b[0;34m(self)\u001b[0m\n\u001b[1;32m    372\u001b[0m     \u001b[38;5;28;01mreturn\u001b[39;00m \u001b[38;5;28mfloat\u001b[39m(result)\n\u001b[1;32m    373\u001b[0m \u001b[38;5;28;01mif\u001b[39;00m result\u001b[38;5;241m.\u001b[39mis_number \u001b[38;5;129;01mand\u001b[39;00m result\u001b[38;5;241m.\u001b[39mas_real_imag()[\u001b[38;5;241m1\u001b[39m]:\n\u001b[0;32m--> 374\u001b[0m     \u001b[38;5;28;01mraise\u001b[39;00m \u001b[38;5;167;01mTypeError\u001b[39;00m(\u001b[38;5;124m\"\u001b[39m\u001b[38;5;124mCannot convert complex to float\u001b[39m\u001b[38;5;124m\"\u001b[39m)\n\u001b[1;32m    375\u001b[0m \u001b[38;5;28;01mraise\u001b[39;00m \u001b[38;5;167;01mTypeError\u001b[39;00m(\u001b[38;5;124m\"\u001b[39m\u001b[38;5;124mCannot convert expression to float\u001b[39m\u001b[38;5;124m\"\u001b[39m)\n",
      "\u001b[0;31mTypeError\u001b[0m: Cannot convert complex to float"
     ]
    },
    {
     "data": {
      "image/png": "[encoded data removed]",
      "text/plain": [
       "<Figure size 640x480 with 1 Axes>"
      ]
     },
     "metadata": {},
     "output_type": "display_data"
    }
   ],
   "source": [
    "Y_ss_values = []\n",
    "i_value = 0.2\n",
    "K_values = np.linspace(-2, -1, 50)\n",
    "s_value = 0.5\n",
    "\n",
    "for K_val in K_values:\n",
    "\n",
    "    Y_ss = solution.subs({K: K_val, i: i_value, s: s_value})\n",
    "    print(Y_ss)\n",
    "    Y_ss_values.append((Y_ss))\n",
    "\n",
    "plt.plot(K_values, Y_ss_values)\n",
    "plt.xlabel('Capital (K)')\n",
    "plt.ylabel('Steady-State Output (Y_ss)')\n",
    "plt.title('Steady-State Output vs Capital in Kaldor Model')\n",
    "plt.grid()"
   ]
  },
  {
   "cell_type": "markdown",
   "metadata": {},
   "source": [
    "## Section 3: Full Model"
   ]
  },
  {
   "cell_type": "markdown",
   "metadata": {},
   "source": [
    "### Task 3.1: Define the coupled system"
   ]
  },
  {
   "cell_type": "code",
   "execution_count": null,
   "metadata": {},
   "outputs": [],
   "source": [
    "# Define the Kaldor model system of equations\n",
    "# YOUR CODE HERE\n",
    "\n",
    "dKdt = I - delta * K\n",
    "dYdt = alpha * (I - S)"
   ]
  },
  {
   "cell_type": "markdown",
   "metadata": {},
   "source": [
    "### Task 3.2: Plot the System\n",
    "\n",
    "- Show the evolution for various parameters as $K$ and $Y$ as function of $t$, the evolution\n",
    "- Plot the Streamplot and one trajectory in the $K$—$Y$ space."
   ]
  },
  {
   "cell_type": "code",
   "execution_count": 11,
   "metadata": {},
   "outputs": [],
   "source": [
    "# YOUR CODE HERE"
   ]
  },
  {
   "cell_type": "code",
   "execution_count": null,
   "metadata": {},
   "outputs": [],
   "source": [
    "import numpy as np\n",
    "import matplotlib.pyplot as plt\n",
    "\n",
    "def real_roots_cubic_numeric(i_param, s_param, K_val):\n",
    "    # Con S = -Y^3 + sY + K, dY/dt=0 => Y**3 + (i - s)*Y - 2*K = 0\n",
    "    coeffs = [1.0, 0.0, (i_param - s_param), -2.0 * K_val]\n",
    "    r = np.roots(coeffs)\n",
    "    return np.sort(r[np.isclose(r.imag, 0.0, atol=1e-10)].real)\n",
    "\n",
    "# Parametri coerenti con la cella precedente\n",
    "i_value = 0.2\n",
    "s_value = 0.5\n",
    "K_values = np.linspace(-2, -1, 200)\n",
    "\n",
    "K_points, Y_points = [], []\n",
    "for K_val in K_values:\n",
    "    roots = real_roots_cubic_numeric(i_value, s_value, K_val)\n",
    "    for y in roots:\n",
    "        K_points.append(K_val)\n",
    "        Y_points.append(y)\n",
    "\n",
    "plt.figure(figsize=(6, 4))\n",
    "plt.scatter(K_points, Y_points, s=6, color='black')\n",
    "plt.xlabel('Capital (K)')\n",
    "plt.ylabel('Equilibri Y* (dY/dt=0)')\n",
    "plt.title('Y* vs K (radici reali della cubica)')\n",
    "plt.grid(True)\n",
    "plt.show()"
   ]
  }
 ],
 "metadata": {
  "kernelspec": {
   "display_name": "Python 3",
   "language": "python",
   "name": "python3"
  },
  "language_info": {
   "codemirror_mode": {
    "name": "ipython",
    "version": 3
   },
   "file_extension": ".py",
   "mimetype": "text/x-python",
   "name": "python",
   "nbconvert_exporter": "python",
   "pygments_lexer": "ipython3",
   "version": "3.12.2"
  }
 },
 "nbformat": 4,
 "nbformat_minor": 2
}
